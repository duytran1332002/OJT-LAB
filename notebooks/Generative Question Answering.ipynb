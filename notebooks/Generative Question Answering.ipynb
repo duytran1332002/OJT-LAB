{
 "cells": [
  {
   "cell_type": "code",
   "execution_count": 1,
   "metadata": {},
   "outputs": [],
   "source": [
    "import numpy as np\n",
    "import torch\n",
    "import json\n",
    "import os"
   ]
  },
  {
   "cell_type": "code",
   "execution_count": 4,
   "metadata": {},
   "outputs": [
    {
     "name": "stdout",
     "output_type": "stream",
     "text": [
      "272634\n",
      "272634\n",
      "272634\n"
     ]
    }
   ],
   "source": [
    "# load data\n",
    "# Open the JSONL file\n",
    "questions = []\n",
    "answers = []\n",
    "contexts = []\n",
    "\n",
    "with open('/home/duy1332002/Desktop/OJT-LAB/data/ELI5/ELI5.jsonl', 'r') as f:\n",
    "    # Read each line of the file and parse it as a JSON object\n",
    "    for line in f:\n",
    "        obj = json.loads(line)\n",
    "        questions.append(obj['question'])\n",
    "        answers.append(obj['answers'])\n",
    "        contexts.append(obj['ctxs'])\n",
    "print(len(questions))\n",
    "print(len(answers))\n",
    "print(len(contexts))\n"
   ]
  },
  {
   "cell_type": "code",
   "execution_count": 1,
   "metadata": {},
   "outputs": [],
   "source": [
    "from Mydataset import Dataset\n",
    "from transformers import PreTrainedTokenizer, T5ForConditionalGeneration, T5Tokenizer, AdamW, set_seed\n",
    "from torch.utils.data import DataLoader\n",
    "from tqdm import tqdm\n",
    "import torch\n",
    "import json\n",
    "\n",
    "# load data\n",
    "# Open the JSONL file\n",
    "data = Dataset('/home/duy1332002/Desktop/OJT-LAB/data/ELI5/ELI5_val.jsonl', T5Tokenizer.from_pretrained('t5-base'))"
   ]
  },
  {
   "cell_type": "code",
   "execution_count": 67,
   "metadata": {},
   "outputs": [
    {
     "name": "stdout",
     "output_type": "stream",
     "text": [
      "train_data_path=/home/duy1332002/Desktop/OJT-LAB/data/ELI5/test.jsonl\n",
      "val_data_path=/home/duy1332002/Desktop/OJT-LAB/data/ELI5/test.jsonl\n",
      "pretrain_model_path=None\n",
      "tokenizer_path=None\n",
      "t5_model=t5-base\n",
      "batch_size=2\n",
      "epochs=5\n",
      "lr=0.0001\n",
      "workers=0\n",
      "device=cuda\n",
      "max_input_length=512\n",
      "seed=7\n",
      "\u001b[34m\u001b[1mwandb\u001b[0m: Currently logged in as: \u001b[33mduytran1332002\u001b[0m. Use \u001b[1m`wandb login --relogin`\u001b[0m to force relogin\n",
      "\u001b[34m\u001b[1mwandb\u001b[0m: Tracking run with wandb version 0.14.2\n",
      "\u001b[34m\u001b[1mwandb\u001b[0m: Run data is saved locally in \u001b[35m\u001b[1m/home/duy1332002/Desktop/OJT-LAB/notebooks/wandb/run-20230414_113728-e5k9gocb\u001b[0m\n",
      "\u001b[34m\u001b[1mwandb\u001b[0m: Run \u001b[1m`wandb offline`\u001b[0m to turn off syncing.\n",
      "\u001b[34m\u001b[1mwandb\u001b[0m: Syncing run \u001b[33mfeasible-brook-10\u001b[0m\n",
      "\u001b[34m\u001b[1mwandb\u001b[0m: ⭐️ View project at \u001b[34m\u001b[4mhttps://wandb.ai/duytran1332002/OJT_LAB\u001b[0m\n",
      "\u001b[34m\u001b[1mwandb\u001b[0m: 🚀 View run at \u001b[34m\u001b[4mhttps://wandb.ai/duytran1332002/OJT_LAB/runs/e5k9gocb\u001b[0m\n",
      "100%|█████████████████████████████████████████████| 7/7 [00:04<00:00,  1.43it/s]\n",
      "epoch=1/5\n",
      "\t Train loss = 7.8508\n",
      "100%|█████████████████████████████████████████████| 7/7 [00:04<00:00,  1.75it/s]\n",
      "7it [00:00, 1119.33it/s]\n",
      "\t Validation F1 = 0.05, EM = 0.00\n",
      "100%|█████████████████████████████████████████████| 7/7 [00:04<00:00,  1.56it/s]\n",
      "epoch=2/5\n",
      "\t Train loss = 4.6126\n",
      "100%|█████████████████████████████████████████████| 7/7 [00:04<00:00,  1.72it/s]\n",
      "7it [00:00, 1313.71it/s]\n",
      "\t Validation F1 = 0.08, EM = 0.00\n",
      "100%|█████████████████████████████████████████████| 7/7 [00:04<00:00,  1.56it/s]\n",
      "epoch=3/5\n",
      "\t Train loss = 4.1198\n",
      "100%|█████████████████████████████████████████████| 7/7 [00:04<00:00,  1.72it/s]\n",
      "7it [00:00, 1115.72it/s]\n",
      "\t Validation F1 = 0.10, EM = 0.00\n",
      "100%|█████████████████████████████████████████████| 7/7 [00:04<00:00,  1.56it/s]\n",
      "epoch=4/5\n",
      "\t Train loss = 3.8369\n",
      "100%|█████████████████████████████████████████████| 7/7 [00:04<00:00,  1.74it/s]\n",
      "7it [00:00, 1206.55it/s]\n",
      "\t Validation F1 = 0.07, EM = 0.00\n",
      "100%|█████████████████████████████████████████████| 7/7 [00:04<00:00,  1.53it/s]\n",
      "epoch=5/5\n",
      "\t Train loss = 3.5651\n",
      "100%|█████████████████████████████████████████████| 7/7 [00:04<00:00,  1.72it/s]\n",
      "7it [00:00, 1030.54it/s]\n",
      "\t Validation F1 = 0.07, EM = 0.00\n",
      "\u001b[34m\u001b[1mwandb\u001b[0m: Waiting for W&B process to finish... \u001b[32m(success).\u001b[0m\n",
      "\u001b[34m\u001b[1mwandb\u001b[0m: \n",
      "\u001b[34m\u001b[1mwandb\u001b[0m: Run history:\n",
      "\u001b[34m\u001b[1mwandb\u001b[0m: train_loss █▃▂▁▁\n",
      "\u001b[34m\u001b[1mwandb\u001b[0m:     val_em ▁▁▁▁▁\n",
      "\u001b[34m\u001b[1mwandb\u001b[0m:     val_f1 ▁▆█▄▄\n",
      "\u001b[34m\u001b[1mwandb\u001b[0m: \n",
      "\u001b[34m\u001b[1mwandb\u001b[0m: Run summary:\n",
      "\u001b[34m\u001b[1mwandb\u001b[0m: train_loss 3.56511\n",
      "\u001b[34m\u001b[1mwandb\u001b[0m:     val_em 0.0\n",
      "\u001b[34m\u001b[1mwandb\u001b[0m:     val_f1 0.06847\n",
      "\u001b[34m\u001b[1mwandb\u001b[0m: \n",
      "\u001b[34m\u001b[1mwandb\u001b[0m: 🚀 View run \u001b[33mfeasible-brook-10\u001b[0m at: \u001b[34m\u001b[4mhttps://wandb.ai/duytran1332002/OJT_LAB/runs/e5k9gocb\u001b[0m\n",
      "\u001b[34m\u001b[1mwandb\u001b[0m: Synced 6 W&B file(s), 0 media file(s), 0 artifact file(s) and 0 other file(s)\n",
      "\u001b[34m\u001b[1mwandb\u001b[0m: Find logs at: \u001b[35m\u001b[1m./wandb/run-20230414_113728-e5k9gocb/logs\u001b[0m\n"
     ]
    }
   ],
   "source": [
    "!python main.py --train_data_path \"/home/duy1332002/Desktop/OJT-LAB/data/ELI5/test.jsonl\" --val_data_path \"/home/duy1332002/Desktop/OJT-LAB/data/ELI5/test.jsonl\" --batch_size 2 --epochs 5 --lr 1e-4 --workers 0 --max_input_length 512"
   ]
  },
  {
   "cell_type": "code",
   "execution_count": 1,
   "metadata": {},
   "outputs": [
    {
     "name": "stdout",
     "output_type": "stream",
     "text": [
      "4.10.2\n",
      "ModuleSpec(name='transformers', loader=<_frozen_importlib_external.SourceFileLoader object at 0x7fef0c33b730>, origin='/home/duy1332002/miniconda3/envs/torch/lib/python3.9/site-packages/transformers/__init__.py', submodule_search_locations=['/home/duy1332002/miniconda3/envs/torch/lib/python3.9/site-packages/transformers'])\n"
     ]
    }
   ],
   "source": [
    "import transformers\n",
    "print(transformers.__version__)\n",
    "print(transformers.__spec__)"
   ]
  },
  {
   "cell_type": "code",
   "execution_count": null,
   "metadata": {},
   "outputs": [],
   "source": []
  }
 ],
 "metadata": {
  "kernelspec": {
   "display_name": "torch",
   "language": "python",
   "name": "python3"
  },
  "language_info": {
   "codemirror_mode": {
    "name": "ipython",
    "version": 3
   },
   "file_extension": ".py",
   "mimetype": "text/x-python",
   "name": "python",
   "nbconvert_exporter": "python",
   "pygments_lexer": "ipython3",
   "version": "3.9.15"
  },
  "orig_nbformat": 4
 },
 "nbformat": 4,
 "nbformat_minor": 2
}

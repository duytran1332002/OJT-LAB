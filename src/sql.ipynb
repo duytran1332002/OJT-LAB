{
 "cells": [
  {
   "cell_type": "code",
   "execution_count": 1,
   "metadata": {},
   "outputs": [],
   "source": [
    "import transformers\n",
    "from datasets import load_dataset, list_datasets, BuilderConfig"
   ]
  },
  {
   "cell_type": "code",
   "execution_count": 31,
   "metadata": {},
   "outputs": [
    {
     "name": "stderr",
     "output_type": "stream",
     "text": [
      "Found cached dataset json (C:/Users/Tran Nguyen Nhut Duy/.cache/huggingface/datasets/json/default-9729043621fc9faf/0.0.0/fe5dd6ea2639a6df622901539cb550cf8797e5a6b2dd7af1cf934bed8e233e6e)\n"
     ]
    },
    {
     "data": {
      "application/vnd.jupyter.widget-view+json": {
       "model_id": "b232c84b877942b18d9d261131acd4f8",
       "version_major": 2,
       "version_minor": 0
      },
      "text/plain": [
       "  0%|          | 0/1 [00:00<?, ?it/s]"
      ]
     },
     "metadata": {},
     "output_type": "display_data"
    }
   ],
   "source": [
    "import mmap\n",
    "from  datasets import load_dataset\n",
    "import json\n",
    "\n",
    "dataset = load_dataset('json', data_files='test.jsonl')['train']"
   ]
  },
  {
   "cell_type": "code",
   "execution_count": 32,
   "metadata": {},
   "outputs": [
    {
     "name": "stdout",
     "output_type": "stream",
     "text": [
      "{'_id': '{\"datasets_id\": 0, \"wiki_id\": \"Q1294448\", \"sp\": 2, \"sc\": 0, \"ep\": 6, \"ec\": 610}', 'datasets_id': 0, 'wiki_id': 'Q1294448', 'start_paragraph': 2, 'start_character': 0, 'end_paragraph': 6, 'end_character': 610, 'article_title': 'Ági Szalóki', 'section_title': 'Life', 'passage_text': \"Ági Szalóki Life She started singing as a toddler, considering Márta Sebestyén a role model. Her musical background is traditional folk music; she first won recognition for singing with Ökrös in a traditional folk style, and Besh o droM, a Balkan gypsy brass band. With these ensembles she toured around the world from the Montreal Jazz Festival, through Glastonbury Festival to the Théatre de la Ville in Paris, from New York to Beijing.\\nSince 2005, she began to pursue her solo career and explore various genres, such as jazz, thirties ballads, or children's songs.\\nUntil now, three of her six released albums\"}\n",
      "{'_id': '{\"datasets_id\": 0, \"wiki_id\": \"Q1294448\", \"sp\": 6, \"sc\": 610, \"ep\": 6, \"ec\": 1198}', 'datasets_id': 0, 'wiki_id': 'Q1294448', 'start_paragraph': 6, 'start_character': 610, 'end_paragraph': 6, 'end_character': 1198, 'article_title': 'Ági Szalóki', 'section_title': 'Life', 'passage_text': 'were awarded Album of the Year Prize (MAHASZ Fonogram Award) in the children\\'s records and jazz categories.\\n\"When I sing it\\'s not important whether it\\'s jazz or traditional music or music of any other kind\", Szalóki has said. \"I feel as if I\\'m swimming in the music. The music is like water; or air and I fly in it.\"\\nShe is trained in the Kodály method. Many of her projects are inspired by poetry, be it \"Sunset of Rust, It is Dusk\" on Lament (2005), or the Karády album of ballads (A Vágy Muzsikál, 2008).\\nShe has also performed at numerous children\\'s concerts.'}\n",
      "{'_id': '{\"datasets_id\": 1, \"wiki_id\": \"Q3588472\", \"sp\": 2, \"sc\": 0, \"ep\": 8, \"ec\": 209}', 'datasets_id': 1, 'wiki_id': 'Q3588472', 'start_paragraph': 2, 'start_character': 0, 'end_paragraph': 8, 'end_character': 209, 'article_title': 'Émile Dubonnet', 'section_title': 'Biography', 'passage_text': 'Émile Dubonnet Émile Dubonnet (18 October 1883 - 1940) was a French balloonist active from 1908 to 1913. He participated in the 1908, 1909, and 1911 Gordon Bennett Cup in ballooning and was a member of the Aéro-Club de France. He won the La Grande Medialle de Aéro-Club de France in 1912. He holds a Fédération Aéronautique Internationale record from 1912-1913. Biography He was born on 18 October 1883 in Paris to a winemaker. In 1910 he flew over Paris in his Tellier brothers aircraft. He started from the Juvisy-sur-Orge field and made a landing at Bois de Boulogne \\nHe'}\n",
      "{'_id': '{\"datasets_id\": 1, \"wiki_id\": \"Q3588472\", \"sp\": 8, \"sc\": 209, \"ep\": 8, \"ec\": 312}', 'datasets_id': 1, 'wiki_id': 'Q3588472', 'start_paragraph': 8, 'start_character': 209, 'end_paragraph': 8, 'end_character': 312, 'article_title': 'Émile Dubonnet', 'section_title': 'Biography', 'passage_text': 'also helped form the first professional baseball league in France, the French Baseball Union, in 1912.'}\n",
      "{'_id': '{\"datasets_id\": 2, \"wiki_id\": \"Q15446670\", \"sp\": 2, \"sc\": 0, \"ep\": 8, \"ec\": 422}', 'datasets_id': 2, 'wiki_id': 'Q15446670', 'start_paragraph': 2, 'start_character': 0, 'end_paragraph': 8, 'end_character': 422, 'article_title': 'Émile Gilliéron', 'section_title': 'Education and experience', 'passage_text': 'Émile Gilliéron Émile Gilliéron (1850–1924) was a Swiss artist and archaeological draftsman best known for his reconstructions of Mycenaean and Minoan artifacts from the Bronze Age. Education and experience Émile Gilliéron studied at the trade school in Basel from 1872 to 1874, the Art Academy in Munich from 1875 to 1876, and finally at the studio of Isidore Pils in Paris from 1875 to 1877. In 1877, Gilliéron relocated to Athens where he began his career as an archaeological artist who produced drawings for Greek and foreign excavators, designed commemorative postage stamps for the inaugural Olympic Games (1896 and 1906),'}\n",
      "{'_id': '{\"datasets_id\": 2, \"wiki_id\": \"Q15446670\", \"sp\": 8, \"sc\": 422, \"ep\": 12, \"ec\": 572}', 'datasets_id': 2, 'wiki_id': 'Q15446670', 'start_paragraph': 8, 'start_character': 422, 'end_paragraph': 12, 'end_character': 572, 'article_title': 'Émile Gilliéron', 'section_title': 'Education and experience & Professional life', 'passage_text': 'and served as an art tutor for the royal family of George I. Professional life Émile Gilliéron worked as an archaeological illustrator for Heinrich Schliemann and gained a reputation for being widely recognized as the best archaeological illustrator working in Greece at the time. This reputation helped Gilliéron acquire a position assisting with fresco reconstructions at the excavation at Tiryns from 1910-1912. Gilliéron also became the chief restorer for Arthur Evans at the Palace of Minos at Knossos on Crete. For over three decades, Gilliéron worked with his son, and predecessor, also named Émile, creating reproductions of frescoes and other'}\n",
      "{'_id': '{\"datasets_id\": 2, \"wiki_id\": \"Q15446670\", \"sp\": 12, \"sc\": 572, \"ep\": 12, \"ec\": 1199}', 'datasets_id': 2, 'wiki_id': 'Q15446670', 'start_paragraph': 12, 'start_character': 572, 'end_paragraph': 12, 'end_character': 1199, 'article_title': 'Émile Gilliéron', 'section_title': 'Professional life', 'passage_text': \"artifacts for Arthur Evans. The Gilliérons can be recognized as contributing many illustrations to Evan's four-volume book, The Palace of Minos at Knossos. Some of the most famous reconstructions by the Gilliérons include the Priest King fresco, the Ladies in Blue fresco, and the painting of the throne room at the Palace of Minos. Émile Gilliéron and his son formed a family business known as E. Gillieron & Son where they sold original commissioned watercolors and other reproductions made directly from originals on Skoufa Street in Athens. The Gilliérons created replicas of metal artifacts based on molds of the original\"}\n",
      "{'_id': '{\"datasets_id\": 2, \"wiki_id\": \"Q15446670\", \"sp\": 12, \"sc\": 1199, \"ep\": 12, \"ec\": 1852}', 'datasets_id': 2, 'wiki_id': 'Q15446670', 'start_paragraph': 12, 'start_character': 1199, 'end_paragraph': 12, 'end_character': 1852, 'article_title': 'Émile Gilliéron', 'section_title': 'Professional life', 'passage_text': 'masks, weapons, and vessels. They also created full-scale copies of Minoan frescoes on watercolor paper and created three-dimensional reconstructions in plaster form. By 1911 the Gilliérons had a catalog of Mycenaean antiquities consisting of over 144 pieces that could be manufactured in Germany by the Wurtemburg Electro Plate Company. The Gilliérons reworked molds taken from original antiquities to recreate an object in its undamaged form. The Gilliérons created two reconstructions of the well-known “Mask of Agamemnon” from Shaft Grave V in Grave Circle A at Mycenae, one which represented how the mask looked when it was found, and one restored'}\n",
      "{'_id': '{\"datasets_id\": 2, \"wiki_id\": \"Q15446670\", \"sp\": 12, \"sc\": 1852, \"ep\": 16, \"ec\": 581}', 'datasets_id': 2, 'wiki_id': 'Q15446670', 'start_paragraph': 12, 'start_character': 1852, 'end_paragraph': 16, 'end_character': 581, 'article_title': 'Émile Gilliéron', 'section_title': 'Professional life & Criticisms', 'passage_text': 'to look like the believed original appearance. Criticisms The work of the Gilliérons can be attributed to influencing the spread of Aegean art and creating an impression of Minoan culture but the validity of the reconstructions has long been debated. The Priest King fresco, believed by Arthur Evans to depict one of the rulers of ancient Knossos, was created by piecing fragments of the original together and has been scrutinized as containing contemporary influences that were allegedly much different from the original. Other reconstructions by the Gilliérons fall under similar scrutiny, such as the Bull Leapers fresco, which may have'}\n",
      "{'_id': '{\"datasets_id\": 2, \"wiki_id\": \"Q15446670\", \"sp\": 16, \"sc\": 581, \"ep\": 20, \"ec\": 15}', 'datasets_id': 2, 'wiki_id': 'Q15446670', 'start_paragraph': 16, 'start_character': 581, 'end_paragraph': 20, 'end_character': 15, 'article_title': 'Émile Gilliéron', 'section_title': 'Criticisms & Death and acknowledgements', 'passage_text': \"been given the addition of a modern border. Émile Gilliéron's reconstruction of the Saffron Gatherer fresco has been proven to be incorrect, as it originally depicted a monkey, not a boy. In addition to restorations and reconstructions, it has been a matter of ongoing research whether the Gilliérons were also involved in the forgery business producing fakes with their Greek assistants. Some of the artifacts attributed to the Gilliérons and under suspicion of forgery include the chryselephantine snake goddesses, the Ring of Minos and the Ring of Nestor, and the well-known Phaistos disc on Crete. Death and acknowledgements Émile Gilliéron\"}\n"
     ]
    }
   ],
   "source": [
    "for i in range(10):\n",
    "    print(dataset[i])"
   ]
  },
  {
   "cell_type": "code",
   "execution_count": 38,
   "metadata": {},
   "outputs": [],
   "source": [
    "def preprocess_data(examples, key='passage_text'):\n",
    "        \"\"\"Preprocesses the data by removing newlines, tabs, and multiple spaces\n",
    "        Args:\n",
    "            examples (dict): dictionary containing the data\n",
    "            key (str, optional): key for the data. Defaults to 'passage_text'.\n",
    "        Returns:\n",
    "            dict: dictionary containing the preprocessed data\n",
    "            \"\"\"\n",
    "\n",
    "        # lowercase the text\n",
    "        examples[key] = examples[key].lower()\n",
    "        # remove newlines\n",
    "        examples[key] = examples[key].replace('\\n', '')\n",
    "        # remove tabs\n",
    "        examples[key] = examples[key].replace('\\t', '')\n",
    "        # remove multiple spaces\n",
    "        examples[key] = examples[key].replace('  ', ' ')\n",
    "        return examples"
   ]
  },
  {
   "cell_type": "code",
   "execution_count": 34,
   "metadata": {},
   "outputs": [
    {
     "name": "stdout",
     "output_type": "stream",
     "text": [
      "Ági Szalóki Life She started singing as a toddler, considering Márta Sebestyén a role model. Her musical background is traditional folk music; she first won recognition for singing with Ökrös in a traditional folk style, and Besh o droM, a Balkan gypsy brass band. With these ensembles she toured around the world from the Montreal Jazz Festival, through Glastonbury Festival to the Théatre de la Ville in Paris, from New York to Beijing.\n",
      "Since 2005, she began to pursue her solo career and explore various genres, such as jazz, thirties ballads, or children's songs.\n",
      "Until now, three of her six released albums\n"
     ]
    }
   ],
   "source": [
    "print(dataset[0]['passage_text'])"
   ]
  },
  {
   "cell_type": "code",
   "execution_count": 39,
   "metadata": {},
   "outputs": [
    {
     "ename": "TypeError",
     "evalue": "'Dataset' object does not support item assignment",
     "output_type": "error",
     "traceback": [
      "\u001b[1;31m---------------------------------------------------------------------------\u001b[0m",
      "\u001b[1;31mTypeError\u001b[0m                                 Traceback (most recent call last)",
      "\u001b[1;32m~\\AppData\\Local\\Temp\\ipykernel_12572\\3422656696.py\u001b[0m in \u001b[0;36m<module>\u001b[1;34m\u001b[0m\n\u001b[0;32m      1\u001b[0m \u001b[1;31m# preprocess the data\u001b[0m\u001b[1;33m\u001b[0m\u001b[1;33m\u001b[0m\u001b[1;33m\u001b[0m\u001b[0m\n\u001b[0;32m      2\u001b[0m \u001b[1;32mfor\u001b[0m \u001b[0mi\u001b[0m \u001b[1;32min\u001b[0m \u001b[0mrange\u001b[0m\u001b[1;33m(\u001b[0m\u001b[0mlen\u001b[0m\u001b[1;33m(\u001b[0m\u001b[0mdataset\u001b[0m\u001b[1;33m)\u001b[0m\u001b[1;33m)\u001b[0m\u001b[1;33m:\u001b[0m\u001b[1;33m\u001b[0m\u001b[1;33m\u001b[0m\u001b[0m\n\u001b[1;32m----> 3\u001b[1;33m     \u001b[0mdataset\u001b[0m\u001b[1;33m[\u001b[0m\u001b[0mi\u001b[0m\u001b[1;33m]\u001b[0m \u001b[1;33m=\u001b[0m \u001b[0mpreprocess_data\u001b[0m\u001b[1;33m(\u001b[0m\u001b[0mdataset\u001b[0m\u001b[1;33m[\u001b[0m\u001b[0mi\u001b[0m\u001b[1;33m]\u001b[0m\u001b[1;33m)\u001b[0m\u001b[1;33m\u001b[0m\u001b[1;33m\u001b[0m\u001b[0m\n\u001b[0m\u001b[0;32m      4\u001b[0m \u001b[1;33m\u001b[0m\u001b[0m\n",
      "\u001b[1;31mTypeError\u001b[0m: 'Dataset' object does not support item assignment"
     ]
    }
   ],
   "source": [
    "# preprocess the data\n",
    "for i in range(len(dataset)):\n",
    "    dataset[i] = preprocess_data(dataset[i])\n",
    "    "
   ]
  },
  {
   "cell_type": "code",
   "execution_count": 36,
   "metadata": {},
   "outputs": [
    {
     "name": "stdout",
     "output_type": "stream",
     "text": [
      "Ági Szalóki Life She started singing as a toddler, considering Márta Sebestyén a role model. Her musical background is traditional folk music; she first won recognition for singing with Ökrös in a traditional folk style, and Besh o droM, a Balkan gypsy brass band. With these ensembles she toured around the world from the Montreal Jazz Festival, through Glastonbury Festival to the Théatre de la Ville in Paris, from New York to Beijing.\n",
      "Since 2005, she began to pursue her solo career and explore various genres, such as jazz, thirties ballads, or children's songs.\n",
      "Until now, three of her six released albums\n",
      "\n",
      "\n",
      "were awarded Album of the Year Prize (MAHASZ Fonogram Award) in the children's records and jazz categories.\n",
      "\"When I sing it's not important whether it's jazz or traditional music or music of any other kind\", Szalóki has said. \"I feel as if I'm swimming in the music. The music is like water; or air and I fly in it.\"\n",
      "She is trained in the Kodály method. Many of her projects are inspired by poetry, be it \"Sunset of Rust, It is Dusk\" on Lament (2005), or the Karády album of ballads (A Vágy Muzsikál, 2008).\n",
      "She has also performed at numerous children's concerts.\n",
      "\n",
      "\n",
      "Émile Dubonnet Émile Dubonnet (18 October 1883 - 1940) was a French balloonist active from 1908 to 1913. He participated in the 1908, 1909, and 1911 Gordon Bennett Cup in ballooning and was a member of the Aéro-Club de France. He won the La Grande Medialle de Aéro-Club de France in 1912. He holds a Fédération Aéronautique Internationale record from 1912-1913. Biography He was born on 18 October 1883 in Paris to a winemaker. In 1910 he flew over Paris in his Tellier brothers aircraft. He started from the Juvisy-sur-Orge field and made a landing at Bois de Boulogne \n",
      "He\n",
      "\n",
      "\n",
      "also helped form the first professional baseball league in France, the French Baseball Union, in 1912.\n",
      "\n",
      "\n",
      "Émile Gilliéron Émile Gilliéron (1850–1924) was a Swiss artist and archaeological draftsman best known for his reconstructions of Mycenaean and Minoan artifacts from the Bronze Age. Education and experience Émile Gilliéron studied at the trade school in Basel from 1872 to 1874, the Art Academy in Munich from 1875 to 1876, and finally at the studio of Isidore Pils in Paris from 1875 to 1877. In 1877, Gilliéron relocated to Athens where he began his career as an archaeological artist who produced drawings for Greek and foreign excavators, designed commemorative postage stamps for the inaugural Olympic Games (1896 and 1906),\n",
      "\n",
      "\n",
      "and served as an art tutor for the royal family of George I. Professional life Émile Gilliéron worked as an archaeological illustrator for Heinrich Schliemann and gained a reputation for being widely recognized as the best archaeological illustrator working in Greece at the time. This reputation helped Gilliéron acquire a position assisting with fresco reconstructions at the excavation at Tiryns from 1910-1912. Gilliéron also became the chief restorer for Arthur Evans at the Palace of Minos at Knossos on Crete. For over three decades, Gilliéron worked with his son, and predecessor, also named Émile, creating reproductions of frescoes and other\n",
      "\n",
      "\n",
      "artifacts for Arthur Evans. The Gilliérons can be recognized as contributing many illustrations to Evan's four-volume book, The Palace of Minos at Knossos. Some of the most famous reconstructions by the Gilliérons include the Priest King fresco, the Ladies in Blue fresco, and the painting of the throne room at the Palace of Minos. Émile Gilliéron and his son formed a family business known as E. Gillieron & Son where they sold original commissioned watercolors and other reproductions made directly from originals on Skoufa Street in Athens. The Gilliérons created replicas of metal artifacts based on molds of the original\n",
      "\n",
      "\n",
      "masks, weapons, and vessels. They also created full-scale copies of Minoan frescoes on watercolor paper and created three-dimensional reconstructions in plaster form. By 1911 the Gilliérons had a catalog of Mycenaean antiquities consisting of over 144 pieces that could be manufactured in Germany by the Wurtemburg Electro Plate Company. The Gilliérons reworked molds taken from original antiquities to recreate an object in its undamaged form. The Gilliérons created two reconstructions of the well-known “Mask of Agamemnon” from Shaft Grave V in Grave Circle A at Mycenae, one which represented how the mask looked when it was found, and one restored\n",
      "\n",
      "\n",
      "to look like the believed original appearance. Criticisms The work of the Gilliérons can be attributed to influencing the spread of Aegean art and creating an impression of Minoan culture but the validity of the reconstructions has long been debated. The Priest King fresco, believed by Arthur Evans to depict one of the rulers of ancient Knossos, was created by piecing fragments of the original together and has been scrutinized as containing contemporary influences that were allegedly much different from the original. Other reconstructions by the Gilliérons fall under similar scrutiny, such as the Bull Leapers fresco, which may have\n",
      "\n",
      "\n",
      "been given the addition of a modern border. Émile Gilliéron's reconstruction of the Saffron Gatherer fresco has been proven to be incorrect, as it originally depicted a monkey, not a boy. In addition to restorations and reconstructions, it has been a matter of ongoing research whether the Gilliérons were also involved in the forgery business producing fakes with their Greek assistants. Some of the artifacts attributed to the Gilliérons and under suspicion of forgery include the chryselephantine snake goddesses, the Ring of Minos and the Ring of Nestor, and the well-known Phaistos disc on Crete. Death and acknowledgements Émile Gilliéron\n",
      "\n",
      "\n"
     ]
    }
   ],
   "source": [
    "\n",
    "for i in range(10):\n",
    "    print(dataset[i]['passage_text'])\n",
    "    print(\"\\n\")"
   ]
  },
  {
   "cell_type": "code",
   "execution_count": 4,
   "metadata": {},
   "outputs": [
    {
     "name": "stderr",
     "output_type": "stream",
     "text": [
      "100%|██████████| 100001/100001 [00:00<00:00, 885503.34it/s]"
     ]
    },
    {
     "name": "stdout",
     "output_type": "stream",
     "text": [
      "18445\n"
     ]
    },
    {
     "name": "stderr",
     "output_type": "stream",
     "text": [
      "\n"
     ]
    }
   ],
   "source": [
    "# combine to a passage with the same wiki_id\n",
    "import collections\n",
    "import tqdm\n",
    "dataset_dict = collections.defaultdict(list)\n",
    "for i in tqdm.tqdm(range(len(dataset))):\n",
    "    dataset_dict[dataset[i]['wiki_id']].append(dataset[i]['passage_text'])\n",
    "print(len(dataset_dict))"
   ]
  },
  {
   "cell_type": "code",
   "execution_count": 5,
   "metadata": {},
   "outputs": [
    {
     "name": "stderr",
     "output_type": "stream",
     "text": [
      "100%|██████████| 18445/18445 [00:00<00:00, 164693.13it/s]"
     ]
    },
    {
     "name": "stdout",
     "output_type": "stream",
     "text": [
      "18445\n"
     ]
    },
    {
     "name": "stderr",
     "output_type": "stream",
     "text": [
      "\n"
     ]
    }
   ],
   "source": [
    "# connect the passages with the same wiki_id\n",
    "for key in tqdm.tqdm(dataset_dict.keys()):\n",
    "    dataset_dict[key] = ' '.join(dataset_dict[key])\n",
    "print(len(dataset_dict))\n"
   ]
  },
  {
   "cell_type": "code",
   "execution_count": 25,
   "metadata": {},
   "outputs": [
    {
     "name": "stdout",
     "output_type": "stream",
     "text": [
      "ági szalóki life she started singing as a toddler, considering márta sebestyén a role model. her musical background is traditional folk music; she first won recognition for singing with ökrös in a traditional folk style, and besh o drom, a balkan gypsy brass band. with these ensembles she toured around the world from the montreal jazz festival, through glastonbury festival to the théatre de la ville in paris, from new york to beijing.since 2005, she began to pursue her solo career and explore various genres, such as jazz, thirties ballads, or children's songs.until now, three of her six released albums were awarded album of the year prize (mahasz fonogram award) in the children's records and jazz categories.\"when i sing it's not important whether it's jazz or traditional music or music of any other kind\", szalóki has said. \"i feel as if i'm swimming in the music. the music is like water; or air and i fly in it.\"she is trained in the kodály method. many of her projects are inspired by poetry, be it \"sunset of rust, it is dusk\" on lament (2005), or the karády album of ballads (a vágy muzsikál, 2008).she has also performed at numerous children's concerts.\n",
      "\n",
      "\n",
      "émile dubonnet émile dubonnet (18 october 1883 - 1940) was a french balloonist active from 1908 to 1913. he participated in the 1908, 1909, and 1911 gordon bennett cup in ballooning and was a member of the aéro-club de france. he won the la grande medialle de aéro-club de france in 1912. he holds a fédération aéronautique internationale record from 1912-1913. biography he was born on 18 october 1883 in paris to a winemaker. in 1910 he flew over paris in his tellier brothers aircraft. he started from the juvisy-sur-orge field and made a landing at bois de boulogne he also helped form the first professional baseball league in france, the french baseball union, in 1912.\n",
      "\n",
      "\n",
      "émile gilliéron émile gilliéron (1850–1924) was a swiss artist and archaeological draftsman best known for his reconstructions of mycenaean and minoan artifacts from the bronze age. education and experience émile gilliéron studied at the trade school in basel from 1872 to 1874, the art academy in munich from 1875 to 1876, and finally at the studio of isidore pils in paris from 1875 to 1877. in 1877, gilliéron relocated to athens where he began his career as an archaeological artist who produced drawings for greek and foreign excavators, designed commemorative postage stamps for the inaugural olympic games (1896 and 1906), and served as an art tutor for the royal family of george i. professional life émile gilliéron worked as an archaeological illustrator for heinrich schliemann and gained a reputation for being widely recognized as the best archaeological illustrator working in greece at the time. this reputation helped gilliéron acquire a position assisting with fresco reconstructions at the excavation at tiryns from 1910-1912. gilliéron also became the chief restorer for arthur evans at the palace of minos at knossos on crete. for over three decades, gilliéron worked with his son, and predecessor, also named émile, creating reproductions of frescoes and other artifacts for arthur evans. the gilliérons can be recognized as contributing many illustrations to evan's four-volume book, the palace of minos at knossos. some of the most famous reconstructions by the gilliérons include the priest king fresco, the ladies in blue fresco, and the painting of the throne room at the palace of minos. émile gilliéron and his son formed a family business known as e. gillieron & son where they sold original commissioned watercolors and other reproductions made directly from originals on skoufa street in athens. the gilliérons created replicas of metal artifacts based on molds of the original masks, weapons, and vessels. they also created full-scale copies of minoan frescoes on watercolor paper and created three-dimensional reconstructions in plaster form. by 1911 the gilliérons had a catalog of mycenaean antiquities consisting of over 144 pieces that could be manufactured in germany by the wurtemburg electro plate company. the gilliérons reworked molds taken from original antiquities to recreate an object in its undamaged form. the gilliérons created two reconstructions of the well-known “mask of agamemnon” from shaft grave v in grave circle a at mycenae, one which represented how the mask looked when it was found, and one restored to look like the believed original appearance. criticisms the work of the gilliérons can be attributed to influencing the spread of aegean art and creating an impression of minoan culture but the validity of the reconstructions has long been debated. the priest king fresco, believed by arthur evans to depict one of the rulers of ancient knossos, was created by piecing fragments of the original together and has been scrutinized as containing contemporary influences that were allegedly much different from the original. other reconstructions by the gilliérons fall under similar scrutiny, such as the bull leapers fresco, which may have been given the addition of a modern border. émile gilliéron's reconstruction of the saffron gatherer fresco has been proven to be incorrect, as it originally depicted a monkey, not a boy. in addition to restorations and reconstructions, it has been a matter of ongoing research whether the gilliérons were also involved in the forgery business producing fakes with their greek assistants. some of the artifacts attributed to the gilliérons and under suspicion of forgery include the chryselephantine snake goddesses, the ring of minos and the ring of nestor, and the well-known phaistos disc on crete. death and acknowledgements émile gilliéron made and sold reproductions to museums and private collections all over the world up until his death in 1939. since then the national museum in athens has had a gallery devoted to gilliéron’s replicas of the greek bronze age. despite scrutiny of validity and questions of forgery, his reproductions remain valuable representations of ancient artistic achievements.\n",
      "\n",
      "\n",
      "épinay-sur-seine history on 7 august 1850, a part of the territory of épinay-sur-seine was detached and merged with a part of the territory of deuil-la-barre, a part of the territory of saint-gratien, and a part of the territory of soisy-sous-montmorency to create the commune of enghien-les-bains.francis, duke of cádiz (13 may 1822 – 17 april 1902), king consort of spain, took up residence at the château of épinay-sur-seine in 1881 until his death in 1902. the castle is currently the épinay-sur-seine city hall.from 1902 it was home to the epinay studios. transport épinay-sur-seine is served by épinay-sur-seine station on paris rer line c. it is also served by épinay-villetaneuse station on the transilien paris – nord suburban rail line.charles de gaulle airport is located about 13 km (8.1 mi) away from épinay-sur-seine.\n",
      "\n",
      "\n",
      "ócsa the árpád age romanesque church the church was originally built in the 13th century by the premonstratensians for use as a monastery. during the 16th century the village was reformed and the structure was given to the village for use as a public place of worship.one of the most beautiful romanesque churches preserved in hungary, it has 3 naves, a cross nave, and two western towers, following the style common to hungarian medieval architecture. it was renewed in the 20th century, according to the plans of modern-day architect (hu:foerk ernő). the church is interesting not only for its architecture, but for the murals of saint ladislaus i of hungary, the legendary painted on the northern walls.numerous preserved houses and structures in the vicinity recall the life and times of the hungarian medieval age, including tools, furniture, and other objects of interest. bird observatory a long-standing bird observatory known as the ócsai madárvárta is located nearby.\n",
      "\n",
      "\n",
      "øyvind storflor club career he made his debut for rosenborg in 1999. in 2000, he was loaned out for byåsen, and in 2001 he was sold to moss for 500,000 kr. in january 2003, storflor returned to rosenborg for nok 1,000,000.he came on a free transfer to strømsgodset before the 2009 season. winning the norwegian cup with the club in 2011 and eliteserien in 2013, he stepped down to play for ranheim in the 2017 season. however, the club achieved promotion from obos-ligaen through the play-offs the same year and has played in the top division since 2018. international career storflor has four caps for the norwegian national team. his first three caps all came in a pre-season tournament in january 2005. on 10 october 2014 he was subbed into the world cup qualifying match versus slovenia.\n",
      "\n",
      "\n",
      "últimas noticias sister publications in 1956 capriles ayala acquired the newspaper la esfera, which was sold in 1966. on february 3, 1958, he founded the evening newspaper el mundo. in 1959 he bought the magazine élite; 1962 he acquired the magazines venezuela gráfica and páginas (the latter of which folded in 1999); in 1966 he founded diario crítica in maracaibo, which closed in 1990; in 1968 he founded the suplemento cultural to últimas noticias; in 1969 he founded the sports daily extra (which folded a year later). in 1970 he founded dominical, the sunday magazine of últimas noticias, and the magazin hipódromo; in 1972 he bought kena (folded in 1999) and founded kabala (folded in 1999) and alarma (folded in 1973); in 1974 he founded the maracaibo newspaper el vespertino, which folded in 1982; in 1988 he founded guía hípica, which folded in 2007. in 2005 la cadena capriles founded urbe and the sports publication líder and acquired urbe bikini; in 2009, it founded el mundo economía y negocios.other media enterprises currently owned by la cadena capriles include la cadena multicolor and planetaurbetv. changes in the newspaper until 1999, the visual format of últimas noticias did not follow any particular formula and according to one commentator, the newspaper looked disorganized. but as of october 2000, certain new parameters were laid down in an effort to make the layout simpler and better organized. at the same time the newspaper adopted a more colloquial tone and aimed to be more of a guide to daily life.in mid-2002 the newspaper began printing in colour on every page. between 2004 and 2006 it launched four regional editions (for different areas of greater caracas) in addition to the national one.between 2009 and 2011, últimas noticias became a major multimedia operation, with its website providing an abundance of material, including podcasts, videos, video chats, interviews, sound galleries, and the like. últimas noticias radio presents music and interviews around the clock. launched the first news app in the country and develop its own low cost tablet.in 2013 the british financier robert hanson bought ultimas noticias for his private company hanson family holdings for a figure reported as $us98 million. in 2014, he was accused by newspaper staff of turning it into \"a socialist party mouthpiece\", but the editor, hector davila, replied that his only instructions from hanson were \"to run a balanced and profitable newspaper\". pre-2013 sale marcos ruiz, a reporter for últimas noticias, was one of a group of journalists handing out leaflets in caracas in favor of press freedom on august 13, 2009, when he was set upon by at least four supporters of president hugo chávez, who punched and beat him with clubs. according to últimas noticias, “12 journalists employed by its newspaper group were injured. the paper ran a front-page headline declaring: \"enough with the violence!”. reporters attacked according to pen, the other journalists attacked on august 13 included manuel alejandro álvarez, césar batiz, greasi bolaños, sergio moreno gonzález, octavio hernandez, jesús hurtado, gabriela iribarren, glexis pastran, fernando peñalver, and marie rondón, all of them employees of la cadena capriles. “the journalists, who were wearing press credentials, were protesting against the government's approval of a new education law that would restrict press freedom”, noted pen. “the assailants reportedly hit and kicked the journalists, leaving them seriously injured, as well as accusing them of being 'defenders of the oligarchy' in the 'people's territory'. the government reportedly issued a statement condemning the attack and the attorney general started an investigation. however, as of 21 august only one suspect had been arrested, despite the fact that there are reportedly photos of the attack that should make it easy to identify the others. according to local news reports, the assailants work for the government-owned broadcaster avilatv. government officials, including president chávez, have reportedly accused the 12 journalists who were attacked of being 'provocative' and taking a 'political stand,' leading them to fear action that the attorney general may take action against them\".césar batiz investigated the assassination of journalist orel sambrano, who at the time of his murder had been writing columns about the rise in drug trafficking, and has written (in collaboration with jesus yajure) about the failure of police to arrest suspects in the killing of journalist, film producer, and entrepreneur jacinto lopez. criticism of venezuelan government últimas noticias published a great deal of investigative journalism that has placed it at odds with the administration of hugo chávez. among an example of this is an august 2011 exposé by césar batiz of derwick associates, a firm accused of bribery and overbilling and currently the target of several lawsuits in the united states.at a meeting of his council of ministers in may 2012, chávez accused últimas noticias of manipulating information concerning the announcement of his presidential candidacy. “first i get this copy where it says 'chávez will announce his candidacy between june 1 and 11'”, said chávez. “and later i receive another copy ... and the headline says: 'chávez still doesn't know when he will announce his candidacy'. so i ask myself: why did they change the headline? what are they trying to manipulate?'”. últimas noticias explained that it publishes six editions a day and that headlines are frequently changed from one edition to the next in order to improve on clarity. the second headline chávez saw had in fact appeared in that day's first edition, while the first headline he saw had appeared in the other five editions. post-2013 sale in 2013, últimas noticias was sold to a party then unidentified and commentary criticizing the venezuelan government declined. this was supposedly due to the new owners of útimas noticias being close to the venezuelan government. it later transpired that the new owner was the british financier robert hanson. censorship allegations following alleged censorship by the newspapers director during the 2014 venezuelan protests, chief researcher tamoa calzadilla along with others resigned. nathalie alvaray, the first woman media vp in the country and leader of all the innovation and convergence projects resigned a week beforein january 2015, venezuelans responded on social media to the controversial headline, \"maduro's tour was a success\", portraying that president nicolas maduro's meeting with saudi arabia was successful despite other outlets calling it a failure. the title led to venezuelans making their own satirical headlines criticizing the newspaper's allegedly biased title.\n",
      "\n",
      "\n",
      "đông hà vietnam war during the vietnam war, đông hà was the northernmost town in south vietnam and was the location of a strategically important united states marine corps đông hà combat base, to support marine positions along the vietnamese demilitarized zone (dmz). the 3rd marine division had overall command and control of this operational area. large numbers of nva operated in the dmz area. 3rd marine division intelligence estimated the combat strength of nva and vc forces in the dmz area in january 1968 was 40,943 troops. đông hà was overrun on march 31, 1972, during the initial assaults of the north vietnamese easter offensive.tourists come to đông hà nowadays, especially ex-servicemen from the u.s. and vietnam, who nearly always include a dmz tour in their programs. the contemporary vietnamese singer như quỳnh was born in đông hà in 1970.\n",
      "\n",
      "\n",
      "i̇nci asena life she was born to muhtar and nihal in i̇stanbul, turkey in 1948. she is the younger sister of duygu asena, a notable journalist. she graduated from the school of english studies at i̇stanbul university.in 1966, she participated at the miss turkey beauty contest under the pseudonym aylin öndersev, which actually was her aunt's name, who died young. she won the contest. she married to journalist halit çapın, and gave birth to a daughter named berfu. her marriage ended with divorce lasting briefly. literature career in 1990, she established a publishing company named adam yayınları. her poems appeared in adam sanat, a literary periodical of the company. in some of her poems, she used the pen name ani toros. she also wrote books, and is a member of pen international.\n",
      "\n",
      "\n",
      "şamlı, zangilan şamlı is a village in the zangilan rayon of azerbaijan.\n",
      "\n",
      "\n"
     ]
    }
   ],
   "source": [
    "for i in range(10):\n",
    "    print(dataset_dict[list(dataset_dict.keys())[i]])\n",
    "    print(\"\\n\")"
   ]
  },
  {
   "attachments": {},
   "cell_type": "markdown",
   "metadata": {},
   "source": [
    "# model retrieval"
   ]
  },
  {
   "cell_type": "code",
   "execution_count": 13,
   "metadata": {},
   "outputs": [
    {
     "name": "stdout",
     "output_type": "stream",
     "text": [
      "torch.Size([768])\n",
      "torch.Size([768])\n",
      "torch.Size([768])\n",
      "torch.Size([768])\n",
      "torch.Size([768])\n",
      "torch.Size([768])\n",
      "torch.Size([768])\n",
      "torch.Size([768])\n",
      "torch.Size([768])\n",
      "torch.Size([768])\n"
     ]
    },
    {
     "ename": "RuntimeError",
     "evalue": "Boolean value of Tensor with more than one value is ambiguous",
     "output_type": "error",
     "traceback": [
      "\u001b[1;31m---------------------------------------------------------------------------\u001b[0m",
      "\u001b[1;31mRuntimeError\u001b[0m                              Traceback (most recent call last)",
      "\u001b[1;32m~\\AppData\\Local\\Temp\\ipykernel_12572\\3473532569.py\u001b[0m in \u001b[0;36m<module>\u001b[1;34m\u001b[0m\n\u001b[0;32m     51\u001b[0m         \u001b[0mprint\u001b[0m\u001b[1;33m(\u001b[0m\u001b[0mi\u001b[0m\u001b[1;33m.\u001b[0m\u001b[0mshape\u001b[0m\u001b[1;33m)\u001b[0m\u001b[1;33m\u001b[0m\u001b[1;33m\u001b[0m\u001b[0m\n\u001b[0;32m     52\u001b[0m     \u001b[0membd_database\u001b[0m\u001b[1;33m.\u001b[0m\u001b[0mappend\u001b[0m\u001b[1;33m(\u001b[0m\u001b[0msentence_embeddings\u001b[0m\u001b[1;33m)\u001b[0m\u001b[1;33m\u001b[0m\u001b[1;33m\u001b[0m\u001b[0m\n\u001b[1;32m---> 53\u001b[1;33m     \u001b[1;32mif\u001b[0m \u001b[0mi\u001b[0m \u001b[1;33m==\u001b[0m \u001b[1;36m10\u001b[0m\u001b[1;33m:\u001b[0m\u001b[1;33m\u001b[0m\u001b[1;33m\u001b[0m\u001b[0m\n\u001b[0m\u001b[0;32m     54\u001b[0m         \u001b[1;32mbreak\u001b[0m\u001b[1;33m\u001b[0m\u001b[1;33m\u001b[0m\u001b[0m\n\u001b[0;32m     55\u001b[0m     \u001b[0mi\u001b[0m \u001b[1;33m+=\u001b[0m \u001b[1;36m1\u001b[0m\u001b[1;33m\u001b[0m\u001b[1;33m\u001b[0m\u001b[0m\n",
      "\u001b[1;31mRuntimeError\u001b[0m: Boolean value of Tensor with more than one value is ambiguous"
     ]
    }
   ],
   "source": [
    "from transformers import AutoTokenizer, AutoModel\n",
    "import torch\n",
    "from torch.utils.data import DataLoader\n",
    "import torch.nn.functional as F\n",
    "from models.Retrieval import WikiDataset\n",
    "#Mean Pooling - Take attention mask into account for correct averaging\n",
    "def mean_pooling(model_output, attention_mask):\n",
    "    token_embeddings = model_output[0] #First element of model_output contains all token embeddings\n",
    "    input_mask_expanded = attention_mask.unsqueeze(-1).expand(token_embeddings.size()).float()\n",
    "    return torch.sum(token_embeddings * input_mask_expanded, 1) / torch.clamp(input_mask_expanded.sum(1), min=1e-9)\n",
    "\n",
    "# clear cuda\n",
    "torch.cuda.empty_cache()\n",
    "\n",
    "# Load model from HuggingFace Hub\n",
    "tokenizer = AutoTokenizer.from_pretrained('sentence-transformers/all-mpnet-base-v1')\n",
    "model = AutoModel.from_pretrained('sentence-transformers/all-mpnet-base-v1')\n",
    "model.eval()\n",
    "model.to(\"cuda\") if torch.cuda.is_available() else model.to(\"cpu\")\n",
    "\n",
    "# Create an instance of the custom WikiDataset class\n",
    "dataset = WikiDataset(dataset_dict)\n",
    "\n",
    "# Set the device (CPU or GPU)\n",
    "device = torch.device('cuda:0' if torch.cuda.is_available() else 'cpu')\n",
    "\n",
    "# Create a data loader for the dataset\n",
    "batch_size = 10  # Set the desired batch size\n",
    "shuffle = False  # Set to True if you want to shuffle the data\n",
    "num_workers = 1  # Set the number of worker processes for data loading\n",
    "data_loader = DataLoader(dataset, batch_size=batch_size, shuffle=shuffle, num_workers=num_workers)\n",
    "\n",
    "i = 10\n",
    "embd_database = []\n",
    "#Tokenize sentences\n",
    "for batch in data_loader:\n",
    "    wiki_ids, passages = batch\n",
    "    encoded_input = tokenizer(passages, padding=True, truncation=True, return_tensors='pt')\n",
    "    encoded_input.to(\"cuda\") if torch.cuda.is_available() else encoded_input.to(\"cpu\")\n",
    "\n",
    "    # Compute token embeddings\n",
    "    with torch.no_grad():\n",
    "        model_output = model(**encoded_input)\n",
    "\n",
    "    # Perform pooling. In this case, mean pooling\n",
    "    sentence_embeddings = mean_pooling(model_output, encoded_input['attention_mask'])\n",
    "\n",
    "    # Normalize embeddings\n",
    "    #sentence_embeddings = F.normalize(sentence_embeddings, p=2, dim=1)\n",
    "    for i in sentence_embeddings:\n",
    "        print(i.shape)\n",
    "    embd_database.append(sentence_embeddings)\n",
    "    if i == 10:\n",
    "        break\n",
    "    i += 1\n"
   ]
  },
  {
   "cell_type": "code",
   "execution_count": 8,
   "metadata": {},
   "outputs": [],
   "source": [
    "def cosine_similarity(u, v):\n",
    "    return torch.dot(u, v) / (u.norm() * v.norm())"
   ]
  },
  {
   "cell_type": "code",
   "execution_count": 9,
   "metadata": {},
   "outputs": [
    {
     "name": "stdout",
     "output_type": "stream",
     "text": [
      "tensor(0.2726)\n",
      "tensor(0.0226)\n",
      "tensor(0.1044)\n",
      "tensor(0.0008)\n",
      "tensor(0.0775)\n",
      "tensor(-0.0812)\n",
      "tensor(0.2431)\n",
      "tensor(-0.0884)\n",
      "tensor(0.6726)\n",
      "tensor(-0.0049)\n"
     ]
    }
   ],
   "source": [
    "question = \"What was the name of the publishing company established by İnci Asena, and in which literary periodical did her poems appear?\"\n",
    "encoded_input = tokenizer(question, padding=True, truncation=True, return_tensors='pt')\n",
    "# Compute token embeddings\n",
    "with torch.no_grad():\n",
    "    model_output = model(**encoded_input)\n",
    "\n",
    "# Perform pooling. In this case, mean pooling\n",
    "question_embeddings = mean_pooling(model_output, encoded_input['attention_mask'])\n",
    "\n",
    "# Normalize embeddings\n",
    "#question_embeddings = F.normalize(sentence_embeddings, p=2, dim=1)\n",
    "for i in range(10):\n",
    "    # reshape to 1d vector\n",
    "    question_embeddings = question_embeddings.reshape(-1)\n",
    "    embd_database[i] = embd_database[i].reshape(-1)\n",
    "    print(cosine_similarity(question_embeddings, embd_database[i]))"
   ]
  },
  {
   "cell_type": "code",
   "execution_count": 31,
   "metadata": {},
   "outputs": [
    {
     "name": "stdout",
     "output_type": "stream",
     "text": [
      "torch.Size([768])\n"
     ]
    }
   ],
   "source": [
    "print(embd_database[0].shape)"
   ]
  },
  {
   "cell_type": "code",
   "execution_count": 21,
   "metadata": {},
   "outputs": [
    {
     "name": "stdout",
     "output_type": "stream",
     "text": [
      "been given the addition of a modern border. émile gilliéron's reconstruction of the saffron gatherer fresco has been proven to be incorrect, as it originally depicted a monkey, not a boy. in addition to restorations and reconstructions, it has been a matter of ongoing research whether the gilliérons were also involved in the forgery business producing fakes with their greek assistants. some of the artifacts attributed to the gilliérons and under suspicion of forgery include the chryselephantine snake goddesses, the ring of minos and the ring of nestor, and the well-known phaistos disc on crete. death and acknowledgements émile gilliéron\n"
     ]
    }
   ],
   "source": [
    "print(dataset[9]['passage_text'])"
   ]
  },
  {
   "cell_type": "code",
   "execution_count": 3,
   "metadata": {},
   "outputs": [
    {
     "name": "stdout",
     "output_type": "stream",
     "text": [
      "Collecting psycopg2\n",
      "  Downloading psycopg2-2.9.6-cp37-cp37m-win_amd64.whl (1.2 MB)\n",
      "     ---------------------------------------- 1.2/1.2 MB 2.8 MB/s eta 0:00:00\n",
      "Installing collected packages: psycopg2\n",
      "Successfully installed psycopg2-2.9.6\n"
     ]
    }
   ],
   "source": [
    "!pip install psycopg2"
   ]
  },
  {
   "cell_type": "code",
   "execution_count": 1,
   "metadata": {},
   "outputs": [
    {
     "name": "stdout",
     "output_type": "stream",
     "text": [
      "<connection object at 0x000001F2A0A10048; dsn: 'user=postgres password=xxx dbname=OJT_LAB_Q2 host=localhost', closed: 0>\n"
     ]
    }
   ],
   "source": [
    "import psycopg2\n",
    "\n",
    "# connect to the database\n",
    "conn = psycopg2.connect(\n",
    "    host=\"localhost\",\n",
    "    database=\"OJT_LAB_Q2\",\n",
    "    user=\"postgres\",\n",
    "    password=\"adidaphat\")\n",
    "# cursor = conn.cursor()\n",
    "print(conn)"
   ]
  },
  {
   "cell_type": "code",
   "execution_count": 34,
   "metadata": {},
   "outputs": [],
   "source": [
    "import psycopg2\n",
    "\n",
    "# connect to the database\n",
    "conn = psycopg2.connect(\n",
    "    host=\"localhost\",\n",
    "    database=\"OJT_LAB_Q2\",\n",
    "    user=\"postgres\",\n",
    "    password=\"adidaphat\")\n",
    "cursor = conn.cursor()\n",
    "name_table = \"public.wiki_snippsets\"\n",
    "try:\n",
    "    for i in range(10):\n",
    "        cursor.execute(f\"\"\"\n",
    "            INSERT INTO {name_table}\n",
    "            VALUES (%s, %s, %s)\"\"\", (list(dataset_dict.keys())[i], dataset_dict[list(dataset_dict.keys())[i]], embd_database[i].reshape(-1).tolist()))\n",
    "    conn.commit()\n",
    "except Exception as e:\n",
    "    print(\"Error:\", e)\n",
    "    conn.rollback()\n",
    "cursor.close()\n",
    "conn.close()"
   ]
  },
  {
   "cell_type": "code",
   "execution_count": 14,
   "metadata": {},
   "outputs": [],
   "source": [
    "import numpy as np\n",
    "# connect to the database\n",
    "import psycopg2\n",
    "\n",
    "\n",
    "conn = psycopg2.connect(\n",
    "    host=\"localhost\",\n",
    "    database=\"OJT_LAB_Q2\",\n",
    "    user=\"postgres\",\n",
    "    password=\"adidaphat\")\n",
    "\n",
    "cursor = conn.cursor()\n",
    "try:\n",
    "    cursor.execute(\"\"\"SELECT * FROM public.wiki_snippsets\"\"\")\n",
    "    rows = cursor.fetchall()\n",
    "    new_embd_database = []\n",
    "    for row in rows:\n",
    "        wiki_id = row[0]\n",
    "        passage = row[1]\n",
    "        embedding_vector = row[2]\n",
    "        new_embd_database.append(embedding_vector)\n",
    "    conn.commit()\n",
    "except Exception as e:\n",
    "    print(\"Error:\", e)\n",
    "    conn.rollback()\n",
    "cursor.close()\n",
    "conn.close()"
   ]
  },
  {
   "cell_type": "code",
   "execution_count": 14,
   "metadata": {},
   "outputs": [
    {
     "name": "stdout",
     "output_type": "stream",
     "text": [
      "tensor(0.2726)\n",
      "tensor(0.0226)\n",
      "tensor(0.1044)\n",
      "tensor(0.0008)\n",
      "tensor(0.0775)\n",
      "tensor(-0.0812)\n",
      "tensor(0.2431)\n",
      "tensor(-0.0884)\n",
      "tensor(0.6726)\n",
      "tensor(-0.0049)\n"
     ]
    }
   ],
   "source": [
    "question = \"What was the name of the publishing company established by İnci Asena, and in which literary periodical did her poems appear?\"\n",
    "encoded_input = tokenizer(question, padding=True, truncation=True, return_tensors='pt')\n",
    "# Compute token embeddings\n",
    "with torch.no_grad():\n",
    "    model_output = model(**encoded_input)\n",
    "\n",
    "# Perform pooling. In this case, mean pooling\n",
    "question_embeddings = mean_pooling(model_output, encoded_input['attention_mask'])\n",
    "\n",
    "# Normalize embeddings\n",
    "#question_embeddings = F.normalize(sentence_embeddings, p=2, dim=1)\n",
    "for i in range(10):\n",
    "    # reshape to 1d vector\n",
    "    question_embeddings = question_embeddings.reshape(-1)\n",
    "    new_embd_database[i] = new_embd_database[i].reshape(-1)\n",
    "    print(cosine_similarity(question_embeddings, new_embd_database[i]))"
   ]
  },
  {
   "cell_type": "code",
   "execution_count": 33,
   "metadata": {},
   "outputs": [
    {
     "name": "stdout",
     "output_type": "stream",
     "text": [
      "Nearest passage text: i̇nci asena life she was born to muhtar and nihal in i̇stanbul, turkey in 1948. she is the younger sister of duygu asena, a notable journalist. she graduated from the school of english studies at i̇stanbul university.in 1966, she participated at the miss turkey beauty contest under the pseudonym aylin öndersev, which actually was her aunt's name, who died young. she won the contest. she married to journalist halit çapın, and gave birth to a daughter named berfu. her marriage ended with divorce lasting briefly. literature career in 1990, she established a publishing company named adam yayınları. her poems appeared in adam sanat, a literary periodical of the company. in some of her poems, she used the pen name ani toros. she also wrote books, and is a member of pen international.\n"
     ]
    }
   ],
   "source": [
    "import psycopg2\n",
    "\n",
    "# connect to the database\n",
    "conn = psycopg2.connect(\n",
    "    host=\"localhost\",\n",
    "    database=\"OJT_LAB_Q2\",\n",
    "    user=\"postgres\",\n",
    "    password=\"adidaphat\")\n",
    "\n",
    "# Call the find_nearest_passage function and print the result\n",
    "cursor = conn.cursor()\n",
    "question_embeddings = question_embeddings.reshape(-1)\n",
    "cursor.execute(\"\"\"SELECT find_similar_passage(CAST(%s AS vector(768)))\"\"\", (question_embeddings.tolist(),))\n",
    "nearest_passage_text = cursor.fetchone()[0]\n",
    "print(\"Nearest passage text:\", nearest_passage_text)\n",
    "\n",
    "# Close the cursor and connection\n",
    "cursor.close()\n",
    "conn.close()"
   ]
  },
  {
   "cell_type": "code",
   "execution_count": null,
   "metadata": {},
   "outputs": [],
   "source": []
  }
 ],
 "metadata": {
  "kernelspec": {
   "display_name": "Python 3",
   "language": "python",
   "name": "python3"
  },
  "language_info": {
   "codemirror_mode": {
    "name": "ipython",
    "version": 3
   },
   "file_extension": ".py",
   "mimetype": "text/x-python",
   "name": "python",
   "nbconvert_exporter": "python",
   "pygments_lexer": "ipython3",
   "version": "3.7.9"
  },
  "orig_nbformat": 4
 },
 "nbformat": 4,
 "nbformat_minor": 2
}

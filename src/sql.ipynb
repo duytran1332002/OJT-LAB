{
 "cells": [
  {
   "cell_type": "code",
   "execution_count": 1,
   "metadata": {},
   "outputs": [],
   "source": [
    "import transformers\n",
    "from datasets import load_dataset, list_datasets, BuilderConfig"
   ]
  },
  {
   "cell_type": "code",
   "execution_count": 31,
   "metadata": {},
   "outputs": [
    {
     "name": "stderr",
     "output_type": "stream",
     "text": [
      "Found cached dataset json (C:/Users/Tran Nguyen Nhut Duy/.cache/huggingface/datasets/json/default-9729043621fc9faf/0.0.0/fe5dd6ea2639a6df622901539cb550cf8797e5a6b2dd7af1cf934bed8e233e6e)\n"
     ]
    },
    {
     "data": {
      "application/vnd.jupyter.widget-view+json": {
       "model_id": "b232c84b877942b18d9d261131acd4f8",
       "version_major": 2,
       "version_minor": 0
      },
      "text/plain": [
       "  0%|          | 0/1 [00:00<?, ?it/s]"
      ]
     },
     "metadata": {},
     "output_type": "display_data"
    }
   ],
   "source": [
    "import mmap\n",
    "from  datasets import load_dataset\n",
    "import json\n",
    "\n",
    "dataset = load_dataset('json', data_files='test.jsonl')['train']"
   ]
  },
  {
   "cell_type": "code",
   "execution_count": 32,
   "metadata": {},
   "outputs": [
    {
     "name": "stdout",
     "output_type": "stream",
     "text": [
      "{'_id': '{\"datasets_id\": 0, \"wiki_id\": \"Q1294448\", \"sp\": 2, \"sc\": 0, \"ep\": 6, \"ec\": 610}', 'datasets_id': 0, 'wiki_id': 'Q1294448', 'start_paragraph': 2, 'start_character': 0, 'end_paragraph': 6, 'end_character': 610, 'article_title': 'Ági Szalóki', 'section_title': 'Life', 'passage_text': \"Ági Szalóki Life She started singing as a toddler, considering Márta Sebestyén a role model. Her musical background is traditional folk music; she first won recognition for singing with Ökrös in a traditional folk style, and Besh o droM, a Balkan gypsy brass band. With these ensembles she toured around the world from the Montreal Jazz Festival, through Glastonbury Festival to the Théatre de la Ville in Paris, from New York to Beijing.\\nSince 2005, she began to pursue her solo career and explore various genres, such as jazz, thirties ballads, or children's songs.\\nUntil now, three of her six released albums\"}\n",
      "{'_id': '{\"datasets_id\": 0, \"wiki_id\": \"Q1294448\", \"sp\": 6, \"sc\": 610, \"ep\": 6, \"ec\": 1198}', 'datasets_id': 0, 'wiki_id': 'Q1294448', 'start_paragraph': 6, 'start_character': 610, 'end_paragraph': 6, 'end_character': 1198, 'article_title': 'Ági Szalóki', 'section_title': 'Life', 'passage_text': 'were awarded Album of the Year Prize (MAHASZ Fonogram Award) in the children\\'s records and jazz categories.\\n\"When I sing it\\'s not important whether it\\'s jazz or traditional music or music of any other kind\", Szalóki has said. \"I feel as if I\\'m swimming in the music. The music is like water; or air and I fly in it.\"\\nShe is trained in the Kodály method. Many of her projects are inspired by poetry, be it \"Sunset of Rust, It is Dusk\" on Lament (2005), or the Karády album of ballads (A Vágy Muzsikál, 2008).\\nShe has also performed at numerous children\\'s concerts.'}\n",
      "{'_id': '{\"datasets_id\": 1, \"wiki_id\": \"Q3588472\", \"sp\": 2, \"sc\": 0, \"ep\": 8, \"ec\": 209}', 'datasets_id': 1, 'wiki_id': 'Q3588472', 'start_paragraph': 2, 'start_character': 0, 'end_paragraph': 8, 'end_character': 209, 'article_title': 'Émile Dubonnet', 'section_title': 'Biography', 'passage_text': 'Émile Dubonnet Émile Dubonnet (18 October 1883 - 1940) was a French balloonist active from 1908 to 1913. He participated in the 1908, 1909, and 1911 Gordon Bennett Cup in ballooning and was a member of the Aéro-Club de France. He won the La Grande Medialle de Aéro-Club de France in 1912. He holds a Fédération Aéronautique Internationale record from 1912-1913. Biography He was born on 18 October 1883 in Paris to a winemaker. In 1910 he flew over Paris in his Tellier brothers aircraft. He started from the Juvisy-sur-Orge field and made a landing at Bois de Boulogne \\nHe'}\n",
      "{'_id': '{\"datasets_id\": 1, \"wiki_id\": \"Q3588472\", \"sp\": 8, \"sc\": 209, \"ep\": 8, \"ec\": 312}', 'datasets_id': 1, 'wiki_id': 'Q3588472', 'start_paragraph': 8, 'start_character': 209, 'end_paragraph': 8, 'end_character': 312, 'article_title': 'Émile Dubonnet', 'section_title': 'Biography', 'passage_text': 'also helped form the first professional baseball league in France, the French Baseball Union, in 1912.'}\n",
      "{'_id': '{\"datasets_id\": 2, \"wiki_id\": \"Q15446670\", \"sp\": 2, \"sc\": 0, \"ep\": 8, \"ec\": 422}', 'datasets_id': 2, 'wiki_id': 'Q15446670', 'start_paragraph': 2, 'start_character': 0, 'end_paragraph': 8, 'end_character': 422, 'article_title': 'Émile Gilliéron', 'section_title': 'Education and experience', 'passage_text': 'Émile Gilliéron Émile Gilliéron (1850–1924) was a Swiss artist and archaeological draftsman best known for his reconstructions of Mycenaean and Minoan artifacts from the Bronze Age. Education and experience Émile Gilliéron studied at the trade school in Basel from 1872 to 1874, the Art Academy in Munich from 1875 to 1876, and finally at the studio of Isidore Pils in Paris from 1875 to 1877. In 1877, Gilliéron relocated to Athens where he began his career as an archaeological artist who produced drawings for Greek and foreign excavators, designed commemorative postage stamps for the inaugural Olympic Games (1896 and 1906),'}\n",
      "{'_id': '{\"datasets_id\": 2, \"wiki_id\": \"Q15446670\", \"sp\": 8, \"sc\": 422, \"ep\": 12, \"ec\": 572}', 'datasets_id': 2, 'wiki_id': 'Q15446670', 'start_paragraph': 8, 'start_character': 422, 'end_paragraph': 12, 'end_character': 572, 'article_title': 'Émile Gilliéron', 'section_title': 'Education and experience & Professional life', 'passage_text': 'and served as an art tutor for the royal family of George I. Professional life Émile Gilliéron worked as an archaeological illustrator for Heinrich Schliemann and gained a reputation for being widely recognized as the best archaeological illustrator working in Greece at the time. This reputation helped Gilliéron acquire a position assisting with fresco reconstructions at the excavation at Tiryns from 1910-1912. Gilliéron also became the chief restorer for Arthur Evans at the Palace of Minos at Knossos on Crete. For over three decades, Gilliéron worked with his son, and predecessor, also named Émile, creating reproductions of frescoes and other'}\n",
      "{'_id': '{\"datasets_id\": 2, \"wiki_id\": \"Q15446670\", \"sp\": 12, \"sc\": 572, \"ep\": 12, \"ec\": 1199}', 'datasets_id': 2, 'wiki_id': 'Q15446670', 'start_paragraph': 12, 'start_character': 572, 'end_paragraph': 12, 'end_character': 1199, 'article_title': 'Émile Gilliéron', 'section_title': 'Professional life', 'passage_text': \"artifacts for Arthur Evans. The Gilliérons can be recognized as contributing many illustrations to Evan's four-volume book, The Palace of Minos at Knossos. Some of the most famous reconstructions by the Gilliérons include the Priest King fresco, the Ladies in Blue fresco, and the painting of the throne room at the Palace of Minos. Émile Gilliéron and his son formed a family business known as E. Gillieron & Son where they sold original commissioned watercolors and other reproductions made directly from originals on Skoufa Street in Athens. The Gilliérons created replicas of metal artifacts based on molds of the original\"}\n",
      "{'_id': '{\"datasets_id\": 2, \"wiki_id\": \"Q15446670\", \"sp\": 12, \"sc\": 1199, \"ep\": 12, \"ec\": 1852}', 'datasets_id': 2, 'wiki_id': 'Q15446670', 'start_paragraph': 12, 'start_character': 1199, 'end_paragraph': 12, 'end_character': 1852, 'article_title': 'Émile Gilliéron', 'section_title': 'Professional life', 'passage_text': 'masks, weapons, and vessels. They also created full-scale copies of Minoan frescoes on watercolor paper and created three-dimensional reconstructions in plaster form. By 1911 the Gilliérons had a catalog of Mycenaean antiquities consisting of over 144 pieces that could be manufactured in Germany by the Wurtemburg Electro Plate Company. The Gilliérons reworked molds taken from original antiquities to recreate an object in its undamaged form. The Gilliérons created two reconstructions of the well-known “Mask of Agamemnon” from Shaft Grave V in Grave Circle A at Mycenae, one which represented how the mask looked when it was found, and one restored'}\n",
      "{'_id': '{\"datasets_id\": 2, \"wiki_id\": \"Q15446670\", \"sp\": 12, \"sc\": 1852, \"ep\": 16, \"ec\": 581}', 'datasets_id': 2, 'wiki_id': 'Q15446670', 'start_paragraph': 12, 'start_character': 1852, 'end_paragraph': 16, 'end_character': 581, 'article_title': 'Émile Gilliéron', 'section_title': 'Professional life & Criticisms', 'passage_text': 'to look like the believed original appearance. Criticisms The work of the Gilliérons can be attributed to influencing the spread of Aegean art and creating an impression of Minoan culture but the validity of the reconstructions has long been debated. The Priest King fresco, believed by Arthur Evans to depict one of the rulers of ancient Knossos, was created by piecing fragments of the original together and has been scrutinized as containing contemporary influences that were allegedly much different from the original. Other reconstructions by the Gilliérons fall under similar scrutiny, such as the Bull Leapers fresco, which may have'}\n",
      "{'_id': '{\"datasets_id\": 2, \"wiki_id\": \"Q15446670\", \"sp\": 16, \"sc\": 581, \"ep\": 20, \"ec\": 15}', 'datasets_id': 2, 'wiki_id': 'Q15446670', 'start_paragraph': 16, 'start_character': 581, 'end_paragraph': 20, 'end_character': 15, 'article_title': 'Émile Gilliéron', 'section_title': 'Criticisms & Death and acknowledgements', 'passage_text': \"been given the addition of a modern border. Émile Gilliéron's reconstruction of the Saffron Gatherer fresco has been proven to be incorrect, as it originally depicted a monkey, not a boy. In addition to restorations and reconstructions, it has been a matter of ongoing research whether the Gilliérons were also involved in the forgery business producing fakes with their Greek assistants. Some of the artifacts attributed to the Gilliérons and under suspicion of forgery include the chryselephantine snake goddesses, the Ring of Minos and the Ring of Nestor, and the well-known Phaistos disc on Crete. Death and acknowledgements Émile Gilliéron\"}\n"
     ]
    }
   ],
   "source": [
    "for i in range(10):\n",
    "    print(dataset[i])"
   ]
  },
  {
   "cell_type": "code",
   "execution_count": 38,
   "metadata": {},
   "outputs": [],
   "source": [
    "def preprocess_data(examples, key='passage_text'):\n",
    "        \"\"\"Preprocesses the data by removing newlines, tabs, and multiple spaces\n",
    "        Args:\n",
    "            examples (dict): dictionary containing the data\n",
    "            key (str, optional): key for the data. Defaults to 'passage_text'.\n",
    "        Returns:\n",
    "            dict: dictionary containing the preprocessed data\n",
    "            \"\"\"\n",
    "\n",
    "        # lowercase the text\n",
    "        examples[key] = examples[key].lower()\n",
    "        # remove newlines\n",
    "        examples[key] = examples[key].replace('\\n', '')\n",
    "        # remove tabs\n",
    "        examples[key] = examples[key].replace('\\t', '')\n",
    "        # remove multiple spaces\n",
    "        examples[key] = examples[key].replace('  ', ' ')\n",
    "        return examples"
   ]
  },
  {
   "cell_type": "code",
   "execution_count": 34,
   "metadata": {},
   "outputs": [
    {
     "name": "stdout",
     "output_type": "stream",
     "text": [
      "Ági Szalóki Life She started singing as a toddler, considering Márta Sebestyén a role model. Her musical background is traditional folk music; she first won recognition for singing with Ökrös in a traditional folk style, and Besh o droM, a Balkan gypsy brass band. With these ensembles she toured around the world from the Montreal Jazz Festival, through Glastonbury Festival to the Théatre de la Ville in Paris, from New York to Beijing.\n",
      "Since 2005, she began to pursue her solo career and explore various genres, such as jazz, thirties ballads, or children's songs.\n",
      "Until now, three of her six released albums\n"
     ]
    }
   ],
   "source": [
    "print(dataset[0]['passage_text'])"
   ]
  },
  {
   "cell_type": "code",
   "execution_count": 39,
   "metadata": {},
   "outputs": [
    {
     "ename": "TypeError",
     "evalue": "'Dataset' object does not support item assignment",
     "output_type": "error",
     "traceback": [
      "\u001b[1;31m---------------------------------------------------------------------------\u001b[0m",
      "\u001b[1;31mTypeError\u001b[0m                                 Traceback (most recent call last)",
      "\u001b[1;32m~\\AppData\\Local\\Temp\\ipykernel_12572\\3422656696.py\u001b[0m in \u001b[0;36m<module>\u001b[1;34m\u001b[0m\n\u001b[0;32m      1\u001b[0m \u001b[1;31m# preprocess the data\u001b[0m\u001b[1;33m\u001b[0m\u001b[1;33m\u001b[0m\u001b[1;33m\u001b[0m\u001b[0m\n\u001b[0;32m      2\u001b[0m \u001b[1;32mfor\u001b[0m \u001b[0mi\u001b[0m \u001b[1;32min\u001b[0m \u001b[0mrange\u001b[0m\u001b[1;33m(\u001b[0m\u001b[0mlen\u001b[0m\u001b[1;33m(\u001b[0m\u001b[0mdataset\u001b[0m\u001b[1;33m)\u001b[0m\u001b[1;33m)\u001b[0m\u001b[1;33m:\u001b[0m\u001b[1;33m\u001b[0m\u001b[1;33m\u001b[0m\u001b[0m\n\u001b[1;32m----> 3\u001b[1;33m     \u001b[0mdataset\u001b[0m\u001b[1;33m[\u001b[0m\u001b[0mi\u001b[0m\u001b[1;33m]\u001b[0m \u001b[1;33m=\u001b[0m \u001b[0mpreprocess_data\u001b[0m\u001b[1;33m(\u001b[0m\u001b[0mdataset\u001b[0m\u001b[1;33m[\u001b[0m\u001b[0mi\u001b[0m\u001b[1;33m]\u001b[0m\u001b[1;33m)\u001b[0m\u001b[1;33m\u001b[0m\u001b[1;33m\u001b[0m\u001b[0m\n\u001b[0m\u001b[0;32m      4\u001b[0m \u001b[1;33m\u001b[0m\u001b[0m\n",
      "\u001b[1;31mTypeError\u001b[0m: 'Dataset' object does not support item assignment"
     ]
    }
   ],
   "source": [
    "# preprocess the data\n",
    "for i in range(len(dataset)):\n",
    "    dataset[i] = preprocess_data(dataset[i])\n",
    "    "
   ]
  },
  {
   "cell_type": "code",
   "execution_count": 36,
   "metadata": {},
   "outputs": [
    {
     "name": "stdout",
     "output_type": "stream",
     "text": [
      "Ági Szalóki Life She started singing as a toddler, considering Márta Sebestyén a role model. Her musical background is traditional folk music; she first won recognition for singing with Ökrös in a traditional folk style, and Besh o droM, a Balkan gypsy brass band. With these ensembles she toured around the world from the Montreal Jazz Festival, through Glastonbury Festival to the Théatre de la Ville in Paris, from New York to Beijing.\n",
      "Since 2005, she began to pursue her solo career and explore various genres, such as jazz, thirties ballads, or children's songs.\n",
      "Until now, three of her six released albums\n",
      "\n",
      "\n",
      "were awarded Album of the Year Prize (MAHASZ Fonogram Award) in the children's records and jazz categories.\n",
      "\"When I sing it's not important whether it's jazz or traditional music or music of any other kind\", Szalóki has said. \"I feel as if I'm swimming in the music. The music is like water; or air and I fly in it.\"\n",
      "She is trained in the Kodály method. Many of her projects are inspired by poetry, be it \"Sunset of Rust, It is Dusk\" on Lament (2005), or the Karády album of ballads (A Vágy Muzsikál, 2008).\n",
      "She has also performed at numerous children's concerts.\n",
      "\n",
      "\n",
      "Émile Dubonnet Émile Dubonnet (18 October 1883 - 1940) was a French balloonist active from 1908 to 1913. He participated in the 1908, 1909, and 1911 Gordon Bennett Cup in ballooning and was a member of the Aéro-Club de France. He won the La Grande Medialle de Aéro-Club de France in 1912. He holds a Fédération Aéronautique Internationale record from 1912-1913. Biography He was born on 18 October 1883 in Paris to a winemaker. In 1910 he flew over Paris in his Tellier brothers aircraft. He started from the Juvisy-sur-Orge field and made a landing at Bois de Boulogne \n",
      "He\n",
      "\n",
      "\n",
      "also helped form the first professional baseball league in France, the French Baseball Union, in 1912.\n",
      "\n",
      "\n",
      "Émile Gilliéron Émile Gilliéron (1850–1924) was a Swiss artist and archaeological draftsman best known for his reconstructions of Mycenaean and Minoan artifacts from the Bronze Age. Education and experience Émile Gilliéron studied at the trade school in Basel from 1872 to 1874, the Art Academy in Munich from 1875 to 1876, and finally at the studio of Isidore Pils in Paris from 1875 to 1877. In 1877, Gilliéron relocated to Athens where he began his career as an archaeological artist who produced drawings for Greek and foreign excavators, designed commemorative postage stamps for the inaugural Olympic Games (1896 and 1906),\n",
      "\n",
      "\n",
      "and served as an art tutor for the royal family of George I. Professional life Émile Gilliéron worked as an archaeological illustrator for Heinrich Schliemann and gained a reputation for being widely recognized as the best archaeological illustrator working in Greece at the time. This reputation helped Gilliéron acquire a position assisting with fresco reconstructions at the excavation at Tiryns from 1910-1912. Gilliéron also became the chief restorer for Arthur Evans at the Palace of Minos at Knossos on Crete. For over three decades, Gilliéron worked with his son, and predecessor, also named Émile, creating reproductions of frescoes and other\n",
      "\n",
      "\n",
      "artifacts for Arthur Evans. The Gilliérons can be recognized as contributing many illustrations to Evan's four-volume book, The Palace of Minos at Knossos. Some of the most famous reconstructions by the Gilliérons include the Priest King fresco, the Ladies in Blue fresco, and the painting of the throne room at the Palace of Minos. Émile Gilliéron and his son formed a family business known as E. Gillieron & Son where they sold original commissioned watercolors and other reproductions made directly from originals on Skoufa Street in Athens. The Gilliérons created replicas of metal artifacts based on molds of the original\n",
      "\n",
      "\n",
      "masks, weapons, and vessels. They also created full-scale copies of Minoan frescoes on watercolor paper and created three-dimensional reconstructions in plaster form. By 1911 the Gilliérons had a catalog of Mycenaean antiquities consisting of over 144 pieces that could be manufactured in Germany by the Wurtemburg Electro Plate Company. The Gilliérons reworked molds taken from original antiquities to recreate an object in its undamaged form. The Gilliérons created two reconstructions of the well-known “Mask of Agamemnon” from Shaft Grave V in Grave Circle A at Mycenae, one which represented how the mask looked when it was found, and one restored\n",
      "\n",
      "\n",
      "to look like the believed original appearance. Criticisms The work of the Gilliérons can be attributed to influencing the spread of Aegean art and creating an impression of Minoan culture but the validity of the reconstructions has long been debated. The Priest King fresco, believed by Arthur Evans to depict one of the rulers of ancient Knossos, was created by piecing fragments of the original together and has been scrutinized as containing contemporary influences that were allegedly much different from the original. Other reconstructions by the Gilliérons fall under similar scrutiny, such as the Bull Leapers fresco, which may have\n",
      "\n",
      "\n",
      "been given the addition of a modern border. Émile Gilliéron's reconstruction of the Saffron Gatherer fresco has been proven to be incorrect, as it originally depicted a monkey, not a boy. In addition to restorations and reconstructions, it has been a matter of ongoing research whether the Gilliérons were also involved in the forgery business producing fakes with their Greek assistants. Some of the artifacts attributed to the Gilliérons and under suspicion of forgery include the chryselephantine snake goddesses, the Ring of Minos and the Ring of Nestor, and the well-known Phaistos disc on Crete. Death and acknowledgements Émile Gilliéron\n",
      "\n",
      "\n"
     ]
    }
   ],
   "source": [
    "\n",
    "for i in range(10):\n",
    "    print(dataset[i]['passage_text'])\n",
    "    print(\"\\n\")"
   ]
  },
  {
   "cell_type": "code",
   "execution_count": 4,
   "metadata": {},
   "outputs": [
    {
     "name": "stderr",
     "output_type": "stream",
     "text": [
      "100%|██████████| 100001/100001 [00:00<00:00, 885503.34it/s]"
     ]
    },
    {
     "name": "stdout",
     "output_type": "stream",
     "text": [
      "18445\n"
     ]
    },
    {
     "name": "stderr",
     "output_type": "stream",
     "text": [
      "\n"
     ]
    }
   ],
   "source": [
    "# combine to a passage with the same wiki_id\n",
    "import collections\n",
    "import tqdm\n",
    "dataset_dict = collections.defaultdict(list)\n",
    "for i in tqdm.tqdm(range(len(dataset))):\n",
    "    dataset_dict[dataset[i]['wiki_id']].append(dataset[i]['passage_text'])\n",
    "print(len(dataset_dict))"
   ]
  },
  {
   "cell_type": "code",
   "execution_count": 5,
   "metadata": {},
   "outputs": [
    {
     "name": "stderr",
     "output_type": "stream",
     "text": [
      "100%|██████████| 18445/18445 [00:00<00:00, 164693.13it/s]"
     ]
    },
    {
     "name": "stdout",
     "output_type": "stream",
     "text": [
      "18445\n"
     ]
    },
    {
     "name": "stderr",
     "output_type": "stream",
     "text": [
      "\n"
     ]
    }
   ],
   "source": [
    "# connect the passages with the same wiki_id\n",
    "for key in tqdm.tqdm(dataset_dict.keys()):\n",
    "    dataset_dict[key] = ' '.join(dataset_dict[key])\n",
    "print(len(dataset_dict))\n"
   ]
  },
  {
   "cell_type": "code",
   "execution_count": 25,
   "metadata": {},
   "outputs": [
    {
     "name": "stdout",
     "output_type": "stream",
     "text": [
      "ági szalóki life she started singing as a toddler, considering márta sebestyén a role model. her musical background is traditional folk music; she first won recognition for singing with ökrös in a traditional folk style, and besh o drom, a balkan gypsy brass band. with these ensembles she toured around the world from the montreal jazz festival, through glastonbury festival to the théatre de la ville in paris, from new york to beijing.since 2005, she began to pursue her solo career and explore various genres, such as jazz, thirties ballads, or children's songs.until now, three of her six released albums were awarded album of the year prize (mahasz fonogram award) in the children's records and jazz categories.\"when i sing it's not important whether it's jazz or traditional music or music of any other kind\", szalóki has said. \"i feel as if i'm swimming in the music. the music is like water; or air and i fly in it.\"she is trained in the kodály method. many of her projects are inspired by poetry, be it \"sunset of rust, it is dusk\" on lament (2005), or the karády album of ballads (a vágy muzsikál, 2008).she has also performed at numerous children's concerts.\n",
      "\n",
      "\n",
      "émile dubonnet émile dubonnet (18 october 1883 - 1940) was a french balloonist active from 1908 to 1913. he participated in the 1908, 1909, and 1911 gordon bennett cup in ballooning and was a member of the aéro-club de france. he won the la grande medialle de aéro-club de france in 1912. he holds a fédération aéronautique internationale record from 1912-1913. biography he was born on 18 october 1883 in paris to a winemaker. in 1910 he flew over paris in his tellier brothers aircraft. he started from the juvisy-sur-orge field and made a landing at bois de boulogne he also helped form the first professional baseball league in france, the french baseball union, in 1912.\n",
      "\n",
      "\n",
      "émile gilliéron émile gilliéron (1850–1924) was a swiss artist and archaeological draftsman best known for his reconstructions of mycenaean and minoan artifacts from the bronze age. education and experience émile gilliéron studied at the trade school in basel from 1872 to 1874, the art academy in munich from 1875 to 1876, and finally at the studio of isidore pils in paris from 1875 to 1877. in 1877, gilliéron relocated to athens where he began his career as an archaeological artist who produced drawings for greek and foreign excavators, designed commemorative postage stamps for the inaugural olympic games (1896 and 1906), and served as an art tutor for the royal family of george i. professional life émile gilliéron worked as an archaeological illustrator for heinrich schliemann and gained a reputation for being widely recognized as the best archaeological illustrator working in greece at the time. this reputation helped gilliéron acquire a position assisting with fresco reconstructions at the excavation at tiryns from 1910-1912. gilliéron also became the chief restorer for arthur evans at the palace of minos at knossos on crete. for over three decades, gilliéron worked with his son, and predecessor, also named émile, creating reproductions of frescoes and other artifacts for arthur evans. the gilliérons can be recognized as contributing many illustrations to evan's four-volume book, the palace of minos at knossos. some of the most famous reconstructions by the gilliérons include the priest king fresco, the ladies in blue fresco, and the painting of the throne room at the palace of minos. émile gilliéron and his son formed a family business known as e. gillieron & son where they sold original commissioned watercolors and other reproductions made directly from originals on skoufa street in athens. the gilliérons created replicas of metal artifacts based on molds of the original masks, weapons, and vessels. they also created full-scale copies of minoan frescoes on watercolor paper and created three-dimensional reconstructions in plaster form. by 1911 the gilliérons had a catalog of mycenaean antiquities consisting of over 144 pieces that could be manufactured in germany by the wurtemburg electro plate company. the gilliérons reworked molds taken from original antiquities to recreate an object in its undamaged form. the gilliérons created two reconstructions of the well-known “mask of agamemnon” from shaft grave v in grave circle a at mycenae, one which represented how the mask looked when it was found, and one restored to look like the believed original appearance. criticisms the work of the gilliérons can be attributed to influencing the spread of aegean art and creating an impression of minoan culture but the validity of the reconstructions has long been debated. the priest king fresco, believed by arthur evans to depict one of the rulers of ancient knossos, was created by piecing fragments of the original together and has been scrutinized as containing contemporary influences that were allegedly much different from the original. other reconstructions by the gilliérons fall under similar scrutiny, such as the bull leapers fresco, which may have been given the addition of a modern border. émile gilliéron's reconstruction of the saffron gatherer fresco has been proven to be incorrect, as it originally depicted a monkey, not a boy. in addition to restorations and reconstructions, it has been a matter of ongoing research whether the gilliérons were also involved in the forgery business producing fakes with their greek assistants. some of the artifacts attributed to the gilliérons and under suspicion of forgery include the chryselephantine snake goddesses, the ring of minos and the ring of nestor, and the well-known phaistos disc on crete. death and acknowledgements émile gilliéron made and sold reproductions to museums and private collections all over the world up until his death in 1939. since then the national museum in athens has had a gallery devoted to gilliéron’s replicas of the greek bronze age. despite scrutiny of validity and questions of forgery, his reproductions remain valuable representations of ancient artistic achievements.\n",
      "\n",
      "\n",
      "épinay-sur-seine history on 7 august 1850, a part of the territory of épinay-sur-seine was detached and merged with a part of the territory of deuil-la-barre, a part of the territory of saint-gratien, and a part of the territory of soisy-sous-montmorency to create the commune of enghien-les-bains.francis, duke of cádiz (13 may 1822 – 17 april 1902), king consort of spain, took up residence at the château of épinay-sur-seine in 1881 until his death in 1902. the castle is currently the épinay-sur-seine city hall.from 1902 it was home to the epinay studios. transport épinay-sur-seine is served by épinay-sur-seine station on paris rer line c. it is also served by épinay-villetaneuse station on the transilien paris – nord suburban rail line.charles de gaulle airport is located about 13 km (8.1 mi) away from épinay-sur-seine.\n",
      "\n",
      "\n",
      "ócsa the árpád age romanesque church the church was originally built in the 13th century by the premonstratensians for use as a monastery. during the 16th century the village was reformed and the structure was given to the village for use as a public place of worship.one of the most beautiful romanesque churches preserved in hungary, it has 3 naves, a cross nave, and two western towers, following the style common to hungarian medieval architecture. it was renewed in the 20th century, according to the plans of modern-day architect (hu:foerk ernő). the church is interesting not only for its architecture, but for the murals of saint ladislaus i of hungary, the legendary painted on the northern walls.numerous preserved houses and structures in the vicinity recall the life and times of the hungarian medieval age, including tools, furniture, and other objects of interest. bird observatory a long-standing bird observatory known as the ócsai madárvárta is located nearby.\n",
      "\n",
      "\n",
      "øyvind storflor club career he made his debut for rosenborg in 1999. in 2000, he was loaned out for byåsen, and in 2001 he was sold to moss for 500,000 kr. in january 2003, storflor returned to rosenborg for nok 1,000,000.he came on a free transfer to strømsgodset before the 2009 season. winning the norwegian cup with the club in 2011 and eliteserien in 2013, he stepped down to play for ranheim in the 2017 season. however, the club achieved promotion from obos-ligaen through the play-offs the same year and has played in the top division since 2018. international career storflor has four caps for the norwegian national team. his first three caps all came in a pre-season tournament in january 2005. on 10 october 2014 he was subbed into the world cup qualifying match versus slovenia.\n",
      "\n",
      "\n",
      "últimas noticias sister publications in 1956 capriles ayala acquired the newspaper la esfera, which was sold in 1966. on february 3, 1958, he founded the evening newspaper el mundo. in 1959 he bought the magazine élite; 1962 he acquired the magazines venezuela gráfica and páginas (the latter of which folded in 1999); in 1966 he founded diario crítica in maracaibo, which closed in 1990; in 1968 he founded the suplemento cultural to últimas noticias; in 1969 he founded the sports daily extra (which folded a year later). in 1970 he founded dominical, the sunday magazine of últimas noticias, and the magazin hipódromo; in 1972 he bought kena (folded in 1999) and founded kabala (folded in 1999) and alarma (folded in 1973); in 1974 he founded the maracaibo newspaper el vespertino, which folded in 1982; in 1988 he founded guía hípica, which folded in 2007. in 2005 la cadena capriles founded urbe and the sports publication líder and acquired urbe bikini; in 2009, it founded el mundo economía y negocios.other media enterprises currently owned by la cadena capriles include la cadena multicolor and planetaurbetv. changes in the newspaper until 1999, the visual format of últimas noticias did not follow any particular formula and according to one commentator, the newspaper looked disorganized. but as of october 2000, certain new parameters were laid down in an effort to make the layout simpler and better organized. at the same time the newspaper adopted a more colloquial tone and aimed to be more of a guide to daily life.in mid-2002 the newspaper began printing in colour on every page. between 2004 and 2006 it launched four regional editions (for different areas of greater caracas) in addition to the national one.between 2009 and 2011, últimas noticias became a major multimedia operation, with its website providing an abundance of material, including podcasts, videos, video chats, interviews, sound galleries, and the like. últimas noticias radio presents music and interviews around the clock. launched the first news app in the country and develop its own low cost tablet.in 2013 the british financier robert hanson bought ultimas noticias for his private company hanson family holdings for a figure reported as $us98 million. in 2014, he was accused by newspaper staff of turning it into \"a socialist party mouthpiece\", but the editor, hector davila, replied that his only instructions from hanson were \"to run a balanced and profitable newspaper\". pre-2013 sale marcos ruiz, a reporter for últimas noticias, was one of a group of journalists handing out leaflets in caracas in favor of press freedom on august 13, 2009, when he was set upon by at least four supporters of president hugo chávez, who punched and beat him with clubs. according to últimas noticias, “12 journalists employed by its newspaper group were injured. the paper ran a front-page headline declaring: \"enough with the violence!”. reporters attacked according to pen, the other journalists attacked on august 13 included manuel alejandro álvarez, césar batiz, greasi bolaños, sergio moreno gonzález, octavio hernandez, jesús hurtado, gabriela iribarren, glexis pastran, fernando peñalver, and marie rondón, all of them employees of la cadena capriles. “the journalists, who were wearing press credentials, were protesting against the government's approval of a new education law that would restrict press freedom”, noted pen. “the assailants reportedly hit and kicked the journalists, leaving them seriously injured, as well as accusing them of being 'defenders of the oligarchy' in the 'people's territory'. the government reportedly issued a statement condemning the attack and the attorney general started an investigation. however, as of 21 august only one suspect had been arrested, despite the fact that there are reportedly photos of the attack that should make it easy to identify the others. according to local news reports, the assailants work for the government-owned broadcaster avilatv. government officials, including president chávez, have reportedly accused the 12 journalists who were attacked of being 'provocative' and taking a 'political stand,' leading them to fear action that the attorney general may take action against them\".césar batiz investigated the assassination of journalist orel sambrano, who at the time of his murder had been writing columns about the rise in drug trafficking, and has written (in collaboration with jesus yajure) about the failure of police to arrest suspects in the killing of journalist, film producer, and entrepreneur jacinto lopez. criticism of venezuelan government últimas noticias published a great deal of investigative journalism that has placed it at odds with the administration of hugo chávez. among an example of this is an august 2011 exposé by césar batiz of derwick associates, a firm accused of bribery and overbilling and currently the target of several lawsuits in the united states.at a meeting of his council of ministers in may 2012, chávez accused últimas noticias of manipulating information concerning the announcement of his presidential candidacy. “first i get this copy where it says 'chávez will announce his candidacy between june 1 and 11'”, said chávez. “and later i receive another copy ... and the headline says: 'chávez still doesn't know when he will announce his candidacy'. so i ask myself: why did they change the headline? what are they trying to manipulate?'”. últimas noticias explained that it publishes six editions a day and that headlines are frequently changed from one edition to the next in order to improve on clarity. the second headline chávez saw had in fact appeared in that day's first edition, while the first headline he saw had appeared in the other five editions. post-2013 sale in 2013, últimas noticias was sold to a party then unidentified and commentary criticizing the venezuelan government declined. this was supposedly due to the new owners of útimas noticias being close to the venezuelan government. it later transpired that the new owner was the british financier robert hanson. censorship allegations following alleged censorship by the newspapers director during the 2014 venezuelan protests, chief researcher tamoa calzadilla along with others resigned. nathalie alvaray, the first woman media vp in the country and leader of all the innovation and convergence projects resigned a week beforein january 2015, venezuelans responded on social media to the controversial headline, \"maduro's tour was a success\", portraying that president nicolas maduro's meeting with saudi arabia was successful despite other outlets calling it a failure. the title led to venezuelans making their own satirical headlines criticizing the newspaper's allegedly biased title.\n",
      "\n",
      "\n",
      "đông hà vietnam war during the vietnam war, đông hà was the northernmost town in south vietnam and was the location of a strategically important united states marine corps đông hà combat base, to support marine positions along the vietnamese demilitarized zone (dmz). the 3rd marine division had overall command and control of this operational area. large numbers of nva operated in the dmz area. 3rd marine division intelligence estimated the combat strength of nva and vc forces in the dmz area in january 1968 was 40,943 troops. đông hà was overrun on march 31, 1972, during the initial assaults of the north vietnamese easter offensive.tourists come to đông hà nowadays, especially ex-servicemen from the u.s. and vietnam, who nearly always include a dmz tour in their programs. the contemporary vietnamese singer như quỳnh was born in đông hà in 1970.\n",
      "\n",
      "\n",
      "i̇nci asena life she was born to muhtar and nihal in i̇stanbul, turkey in 1948. she is the younger sister of duygu asena, a notable journalist. she graduated from the school of english studies at i̇stanbul university.in 1966, she participated at the miss turkey beauty contest under the pseudonym aylin öndersev, which actually was her aunt's name, who died young. she won the contest. she married to journalist halit çapın, and gave birth to a daughter named berfu. her marriage ended with divorce lasting briefly. literature career in 1990, she established a publishing company named adam yayınları. her poems appeared in adam sanat, a literary periodical of the company. in some of her poems, she used the pen name ani toros. she also wrote books, and is a member of pen international.\n",
      "\n",
      "\n",
      "şamlı, zangilan şamlı is a village in the zangilan rayon of azerbaijan.\n",
      "\n",
      "\n"
     ]
    }
   ],
   "source": [
    "for i in range(10):\n",
    "    print(dataset_dict[list(dataset_dict.keys())[i]])\n",
    "    print(\"\\n\")"
   ]
  },
  {
   "attachments": {},
   "cell_type": "markdown",
   "metadata": {},
   "source": [
    "# model retrieval"
   ]
  },
  {
   "cell_type": "code",
   "execution_count": 2,
   "metadata": {},
   "outputs": [],
   "source": [
    "from transformers import AutoTokenizer, AutoModel\n",
    "import torch\n",
    "from torch.utils.data import DataLoader\n",
    "import torch.nn.functional as F\n",
    "from models.Retrieval import WikiDataset\n",
    "#Mean Pooling - Take attention mask into account for correct averaging\n",
    "def mean_pooling(model_output, attention_mask):\n",
    "    token_embeddings = model_output[0] #First element of model_output contains all token embeddings\n",
    "    input_mask_expanded = attention_mask.unsqueeze(-1).expand(token_embeddings.size()).float()\n",
    "    return torch.sum(token_embeddings * input_mask_expanded, 1) / torch.clamp(input_mask_expanded.sum(1), min=1e-9)\n",
    "\n",
    "# clear cuda\n",
    "torch.cuda.empty_cache()\n",
    "\n",
    "# Load model from HuggingFace Hub\n",
    "tokenizer = AutoTokenizer.from_pretrained('sentence-transformers/all-mpnet-base-v1')\n",
    "model = AutoModel.from_pretrained('sentence-transformers/all-mpnet-base-v1')\n",
    "# model.eval()\n",
    "# model.to(\"cuda\") if torch.cuda.is_available() else model.to(\"cpu\")\n",
    "\n",
    "# # Create an instance of the custom WikiDataset class\n",
    "# dataset = WikiDataset(dataset_dict)\n",
    "\n",
    "# # Set the device (CPU or GPU)\n",
    "# device = torch.device('cuda:0' if torch.cuda.is_available() else 'cpu')\n",
    "\n",
    "# # Create a data loader for the dataset\n",
    "# batch_size = 10  # Set the desired batch size\n",
    "# shuffle = False  # Set to True if you want to shuffle the data\n",
    "# num_workers = 1  # Set the number of worker processes for data loading\n",
    "# data_loader = DataLoader(dataset, batch_size=batch_size, shuffle=shuffle, num_workers=num_workers)\n",
    "\n",
    "# i = 10\n",
    "# embd_database = []\n",
    "# #Tokenize sentences\n",
    "# for batch in data_loader:\n",
    "#     wiki_ids, passages = batch\n",
    "#     encoded_input = tokenizer(passages, padding=True, truncation=True, return_tensors='pt')\n",
    "#     encoded_input.to(\"cuda\") if torch.cuda.is_available() else encoded_input.to(\"cpu\")\n",
    "\n",
    "#     # Compute token embeddings\n",
    "#     with torch.no_grad():\n",
    "#         model_output = model(**encoded_input)\n",
    "\n",
    "#     # Perform pooling. In this case, mean pooling\n",
    "#     sentence_embeddings = mean_pooling(model_output, encoded_input['attention_mask'])\n",
    "\n",
    "#     # Normalize embeddings\n",
    "#     #sentence_embeddings = F.normalize(sentence_embeddings, p=2, dim=1)\n",
    "#     for i in sentence_embeddings:\n",
    "#         print(i.shape)\n",
    "#     embd_database.append(sentence_embeddings)\n",
    "#     if i == 10:\n",
    "#         break\n",
    "#     i += 1\n"
   ]
  },
  {
   "cell_type": "code",
   "execution_count": 8,
   "metadata": {},
   "outputs": [],
   "source": [
    "def cosine_similarity(u, v):\n",
    "    return torch.dot(u, v) / (u.norm() * v.norm())"
   ]
  },
  {
   "cell_type": "code",
   "execution_count": 2,
   "metadata": {},
   "outputs": [
    {
     "ename": "NameError",
     "evalue": "name 'embd_database' is not defined",
     "output_type": "error",
     "traceback": [
      "\u001b[1;31m---------------------------------------------------------------------------\u001b[0m",
      "\u001b[1;31mNameError\u001b[0m                                 Traceback (most recent call last)",
      "\u001b[1;32m~\\AppData\\Local\\Temp\\ipykernel_14876\\2134804818.py\u001b[0m in \u001b[0;36m<module>\u001b[1;34m\u001b[0m\n\u001b[0;32m     13\u001b[0m     \u001b[1;31m# reshape to 1d vector\u001b[0m\u001b[1;33m\u001b[0m\u001b[1;33m\u001b[0m\u001b[1;33m\u001b[0m\u001b[0m\n\u001b[0;32m     14\u001b[0m     \u001b[0mquestion_embeddings\u001b[0m \u001b[1;33m=\u001b[0m \u001b[0mquestion_embeddings\u001b[0m\u001b[1;33m.\u001b[0m\u001b[0mreshape\u001b[0m\u001b[1;33m(\u001b[0m\u001b[1;33m-\u001b[0m\u001b[1;36m1\u001b[0m\u001b[1;33m)\u001b[0m\u001b[1;33m\u001b[0m\u001b[1;33m\u001b[0m\u001b[0m\n\u001b[1;32m---> 15\u001b[1;33m     \u001b[0membd_database\u001b[0m\u001b[1;33m[\u001b[0m\u001b[0mi\u001b[0m\u001b[1;33m]\u001b[0m \u001b[1;33m=\u001b[0m \u001b[0membd_database\u001b[0m\u001b[1;33m[\u001b[0m\u001b[0mi\u001b[0m\u001b[1;33m]\u001b[0m\u001b[1;33m.\u001b[0m\u001b[0mreshape\u001b[0m\u001b[1;33m(\u001b[0m\u001b[1;33m-\u001b[0m\u001b[1;36m1\u001b[0m\u001b[1;33m)\u001b[0m\u001b[1;33m\u001b[0m\u001b[1;33m\u001b[0m\u001b[0m\n\u001b[0m\u001b[0;32m     16\u001b[0m     \u001b[0mprint\u001b[0m\u001b[1;33m(\u001b[0m\u001b[0mcosine_similarity\u001b[0m\u001b[1;33m(\u001b[0m\u001b[0mquestion_embeddings\u001b[0m\u001b[1;33m,\u001b[0m \u001b[0membd_database\u001b[0m\u001b[1;33m[\u001b[0m\u001b[0mi\u001b[0m\u001b[1;33m]\u001b[0m\u001b[1;33m)\u001b[0m\u001b[1;33m)\u001b[0m\u001b[1;33m\u001b[0m\u001b[1;33m\u001b[0m\u001b[0m\n",
      "\u001b[1;31mNameError\u001b[0m: name 'embd_database' is not defined"
     ]
    }
   ],
   "source": [
    "question = \"What was the name of the publishing company established by İnci Asena, and in which literary periodical did her poems appear?\"\n",
    "encoded_input = tokenizer(question, padding=True, truncation=True, return_tensors='pt')\n",
    "# Compute token embeddings\n",
    "with torch.no_grad():\n",
    "    model_output = model(**encoded_input)\n",
    "\n",
    "# Perform pooling. In this case, mean pooling\n",
    "question_embeddings = mean_pooling(model_output, encoded_input['attention_mask'])\n",
    "\n",
    "# Normalize embeddings\n",
    "#question_embeddings = F.normalize(sentence_embeddings, p=2, dim=1)\n",
    "for i in range(10):\n",
    "    # reshape to 1d vector\n",
    "    question_embeddings = question_embeddings.reshape(-1)\n",
    "    embd_database[i] = embd_database[i].reshape(-1)\n",
    "    print(cosine_similarity(question_embeddings, embd_database[i]))"
   ]
  },
  {
   "cell_type": "code",
   "execution_count": 31,
   "metadata": {},
   "outputs": [
    {
     "name": "stdout",
     "output_type": "stream",
     "text": [
      "torch.Size([768])\n"
     ]
    }
   ],
   "source": [
    "print(embd_database[0].shape)"
   ]
  },
  {
   "cell_type": "code",
   "execution_count": 21,
   "metadata": {},
   "outputs": [
    {
     "name": "stdout",
     "output_type": "stream",
     "text": [
      "been given the addition of a modern border. émile gilliéron's reconstruction of the saffron gatherer fresco has been proven to be incorrect, as it originally depicted a monkey, not a boy. in addition to restorations and reconstructions, it has been a matter of ongoing research whether the gilliérons were also involved in the forgery business producing fakes with their greek assistants. some of the artifacts attributed to the gilliérons and under suspicion of forgery include the chryselephantine snake goddesses, the ring of minos and the ring of nestor, and the well-known phaistos disc on crete. death and acknowledgements émile gilliéron\n"
     ]
    }
   ],
   "source": [
    "print(dataset[9]['passage_text'])"
   ]
  },
  {
   "cell_type": "code",
   "execution_count": 3,
   "metadata": {},
   "outputs": [
    {
     "name": "stdout",
     "output_type": "stream",
     "text": [
      "Collecting psycopg2\n",
      "  Downloading psycopg2-2.9.6-cp37-cp37m-win_amd64.whl (1.2 MB)\n",
      "     ---------------------------------------- 1.2/1.2 MB 2.8 MB/s eta 0:00:00\n",
      "Installing collected packages: psycopg2\n",
      "Successfully installed psycopg2-2.9.6\n"
     ]
    }
   ],
   "source": [
    "!pip install psycopg2"
   ]
  },
  {
   "cell_type": "code",
   "execution_count": 1,
   "metadata": {},
   "outputs": [
    {
     "name": "stdout",
     "output_type": "stream",
     "text": [
      "<connection object at 0x000001F2A0A10048; dsn: 'user=postgres password=xxx dbname=OJT_LAB_Q2 host=localhost', closed: 0>\n"
     ]
    }
   ],
   "source": [
    "import psycopg2\n",
    "\n",
    "# connect to the database\n",
    "conn = psycopg2.connect(\n",
    "    host=\"localhost\",\n",
    "    database=\"OJT_LAB_Q2\",\n",
    "    user=\"postgres\",\n",
    "    password=\"adidaphat\")\n",
    "# cursor = conn.cursor()\n",
    "print(conn)"
   ]
  },
  {
   "cell_type": "code",
   "execution_count": 34,
   "metadata": {},
   "outputs": [],
   "source": [
    "import psycopg2\n",
    "\n",
    "# connect to the database\n",
    "conn = psycopg2.connect(\n",
    "    host=\"localhost\",\n",
    "    database=\"OJT_LAB_Q2\",\n",
    "    user=\"postgres\",\n",
    "    password=\"adidaphat\")\n",
    "cursor = conn.cursor()\n",
    "name_table = \"public.wiki_snippsets\"\n",
    "try:\n",
    "    for i in range(10):\n",
    "        cursor.execute(f\"\"\"\n",
    "            INSERT INTO {name_table}\n",
    "            VALUES (%s, %s, %s)\"\"\", (list(dataset_dict.keys())[i], dataset_dict[list(dataset_dict.keys())[i]], embd_database[i].reshape(-1).tolist()))\n",
    "    conn.commit()\n",
    "except Exception as e:\n",
    "    print(\"Error:\", e)\n",
    "    conn.rollback()\n",
    "cursor.close()\n",
    "conn.close()"
   ]
  },
  {
   "cell_type": "code",
   "execution_count": 14,
   "metadata": {},
   "outputs": [],
   "source": [
    "import numpy as np\n",
    "# connect to the database\n",
    "import psycopg2\n",
    "\n",
    "\n",
    "conn = psycopg2.connect(\n",
    "    host=\"localhost\",\n",
    "    database=\"OJT_LAB_Q2\",\n",
    "    user=\"postgres\",\n",
    "    password=\"adidaphat\")\n",
    "\n",
    "cursor = conn.cursor()\n",
    "try:\n",
    "    cursor.execute(\"\"\"SELECT * FROM public.wiki_snippsets\"\"\")\n",
    "    rows = cursor.fetchall()\n",
    "    new_embd_database = []\n",
    "    for row in rows:\n",
    "        wiki_id = row[0]\n",
    "        passage = row[1]\n",
    "        embedding_vector = row[2]\n",
    "        new_embd_database.append(embedding_vector)\n",
    "    conn.commit()\n",
    "except Exception as e:\n",
    "    print(\"Error:\", e)\n",
    "    conn.rollback()\n",
    "cursor.close()\n",
    "conn.close()"
   ]
  },
  {
   "cell_type": "code",
   "execution_count": 5,
   "metadata": {},
   "outputs": [],
   "source": [
    "#question = \"What was the reason for the 1863 Queensland colonial election to be held over a period of one month instead of on a single day?\"\n",
    "#question = \"What were the significant changes made to the parliamentary system before the 1888 Dutch general election, and how did they impact the electoral process and representation in the House of Representatives?\"\n",
    "#qquestion = \"What is the history of the bicycle and how did it evolve over time?\"\n",
    "#question = \"what is the most beautiful place in the world?\"\n",
    "question = \"how to learn something new?\"\n",
    "#question = \"How has the COVID-19 pandemic impacted global economies and what measures have been taken to mitigate its effects?\"\n",
    "#question = \"What is the history of Wikipedia and how has it evolved since its inception?\"\n",
    "encoded_input = tokenizer(question, padding=True, truncation=True, return_tensors='pt')\n",
    "# Compute token embeddings\n",
    "with torch.no_grad():\n",
    "    model_output = model(**encoded_input)\n",
    "\n",
    "# Perform pooling. In this case, mean pooling\n",
    "question_embeddings = mean_pooling(model_output, encoded_input['attention_mask'])\n",
    "\n",
    "# Normalize embeddings\n",
    "#question_embeddings = F.normalize(sentence_embeddings, p=2, dim=1)\n",
    "# for i in range(10):\n",
    "#     # reshape to 1d vector\n",
    "#     question_embeddings = question_embeddings.reshape(-1)\n",
    "#     new_embd_database[i] = new_embd_database[i].reshape(-1)\n",
    "#     print(cosine_similarity(question_embeddings, new_embd_database[i]))"
   ]
  },
  {
   "cell_type": "code",
   "execution_count": 6,
   "metadata": {},
   "outputs": [
    {
     "name": "stdout",
     "output_type": "stream",
     "text": [
      "Time taken: 73.95293259620667\n",
      "Passage text: learning how to learn content written in response to enquiries about the sufi tradition, learning how to learn: psychology and spirituality in the sufi way presents traditional teaching stories and anecdotes and articles from newspapers to illustrate prerequisites to sufi learning. one such prerequisite is that the learner should organise their basic human needs so as to be able to give adequate attention to their studies. the second section of the book is dedicated entirely to shah's theory on the human need to give and receive attention. reception the theory on attention presented in the book has influenced the school of psychology and psychotherapy known as the human givens approach. in human givens: a new approach to clear-thinking and emotional wellbeing by ivan tyrrell & joe griffin, the authors state that in their view shah's theory represents “a profoundly more subtle understanding of the importance of attention than found in western psychology till now” and go on to quote in full the 21 principles of attention that shah considered worthy of study.richard smoley and jay kinney, writing in hidden wisdom: a guide to the western inner traditions (2006), described learning how to learn as one of shah's best works. they noted that the book provided a solid orientation to shah's \"psychological\" approach to sufi work and added that shah, at his best, provides \"insights that inoculate students against much of the nonsense in the spiritual marketplace.\"in september 1978 psychology today described the book as \"the watershed in studies of the mind\" and elsewhere as \"a textbook of method and attitude.\"\n",
      "Similarity score: 0.6369881385505494\n",
      "Passage text: visionlearning history in 1998, dr. anthony carpi, an environmental chemist and then-assistant professor at john jay college of the city university of new york, designed and launched a prototype internet learning resource for science students, called the natural science pages. this was in part a response to the growing evidence that poor textbook content and deficient teaching materials contribute to inadequate science education. the purpose of the prototype was to see if presenting important course information in a new form would improve what students understood, what information they remembered, and how well they performed in their class overall.what this research showed, through standardized exam scores and student retention data, was that using the prototype significantly improved science comprehension and performance in the targeted natural science course. further evaluations also showed that the prototype helped improve communication skills and student engagement with the course.in response to the success of the natural science pages prototype and with support of the nsf, carpi developed the visionlearning project, which brought on a group of scientists and educators to create content and became a website open to students and educators worldwide. in the last decade, visionlearning has evolved into a more comprehensive website that provides free educational materials to support the science, technology, engineering, and mathematics (stem) disciplines, with translations into spanish. these materials include independent learning modules that focus on distinct topics within stem disciplines, teaching resources, a myclassroom tool (similar to moodle or webct) that allows educators to customize and maintain a virtual learning environment for their students, and new media elements to benefit multiple learning styles. a key feature of all of visionlearning’s material is an emphasis on the process of science and discovery. the process of science: a philosophy for teaching and learning throughout the development of the learning modules and multimedia tools, visionlearning has emphasized an importance on teaching science as a process, rather than “a simple set of facts and terms to be memorized.” this comes from an organizational ideology that understanding how scientific knowledge evolves better prepares students to engage with the process of discovery and helps to dispel common misconceptions about science. the underlying notion is that students will develop independent, objective thinking skills regardless of whether they pursue a career in stem disciplines, and understand that science is far more than simply conducting experiments in a lab and working with complex mathematical formulas. content as of 2009, visionlearning has developed 70 independent learning modules in nine subject areas, including biology, chemistry, earth science, and the process of science. scientist and author nathan h. lents has been a longtime contributor and module reviewer for visionlearning and currently serves as life science editor. visionlearning modules are organized into concise, relevant topic areas, grouped by discipline. each module can be used independently, or in conjunction with others, and intentionally concentrates on core concepts to help direct learning. supplementary materials such as quizzes, links to reviewed sources, and biographies are also provided for additional exploration. these modules are directed toward undergraduate and high school learning and have been written by experts in the relevant disciplines. every module is peer reviewed for quality and accuracy, and includes historical context and contemporary relevance. myclassroom as part of its dedication to supporting educators, visionlearning has developed a teaching portal called myclassroom. similar to other virtual teaching tools (such as blackboard, moodle, and webct), myclassroom allows educators to create a course customized to their needs. they are able to add learning modules from visionlearning’s library into their classroom, annotate any of these modules, and create their own modules for access by students enrolled in the course. having this material accessible to students via the internet allows for 24-hour access to the learning materials, without cost, and aids spanish bi-lingual students with translations. new media as visionlearning has expanded over the years, the project has embraced and integrated new media with the use of flash animations, simulations, high resolution graphics, and more recently ipod apps. to further embrace developments in technology and become more ada compliant, the site administrators are developing additional media resources for users, such as podcasts and scripts for animations. like many corporations today, they are also exploring the use of blogs and social networking sites, such as facebook, to build awareness and a user base. in 2017, visionlearning launched a podcast entitled \"this world of humans,\" hosted by nathan h. lents. this podcast focuses on new research in biology and social science and includes teaching guides on the podcast website to help science educators incorporate the podcast and its featured research articles into their classrooms. position statements visionlearning does not subscribe to any political party or affiliation. the project is dedicated to providing impartial information in the stem disciplines and encouraging learning in the process of science. one important goal of the project is to provide an understanding of scientific concepts while emphasizing how the scientific community has arrived at these conclusions. the intention is that, through teaching about the process of scientific discovery, students will look at science not as factual elements, but as a way of knowing about the world.the project does not subscribe to the belief that the internet and new media are replacing more traditional forms or communication, but that through proper integration of all the technology available students will have a greater chance of success in stem learning.\n",
      "Similarity score: 0.6602349918290797\n",
      "Passage text: constructivist teaching methods history constructivist approach teaching methods are based on constructivist learning theory. along with john dewey, jean piaget researched childhood development and education. both dewey and piaget were very influential in the development of informal education. dewey's idea of influential education suggests that education must engage with and enlarge experience and the exploration of thinking and reflection associated with the role of educators. piaget's role in the constructivist teaching suggests that we learn by expanding our knowledge by experiences which are generated through play from infancy to adulthood which are necessary for learning. their theories are now encompassed in the broader movement of progressive education. constructivist learning theory says that all knowledge is constructed from a base of prior knowledge. children are not a blank slate and knowledge cannot be imparted without the child making sense of it according to his or her current conceptions. therefore, children learn best when they are allowed to construct a personal understanding based on experiencing things and reflecting on those experiences. an example of a lesson taught with a constructivist background a good example of a lesson being taught in a constructivist way, with the teacher mediating learning rather than directly teaching the class is shown by the example of faraday's candle. there are various forms of this lesson, but all are developed from the christmas lectures faraday gave on the functioning of candles. in open constructivist lessons using these lectures as a basis, students are encouraged to discover for themselves how candles work. they do this first by making simple observations, from which they later build ideas and hypotheses which they then go on to test. the teacher acts to encourage this learning. if successful, students can use this lesson to understand the components of combustion, an important chemistry topic. constructivism for adults constructivist philosophy has a long history of application in education programs for young children, but is used less frequently in adult learning environments. as humans develop, there are qualitative changes in their ability to think logically about experiences, but the processes by which learning occurs, cognitive adaptation and social mediation, are believed to be continuous or remain the same throughout the life. at the heart of constructivist philosophy is the belief that knowledge is not given but gained through real experiences that have purpose and meaning to the learner, and the exchange of perspectives about the experience with others (piaget & inhelder, 1969; vygotsky,1978).learning environments for adults based on constructivist philosophy include opportunities for students to make meaningful connections between new material and previous experience, through discovery. one of the simplest ways to do this is asking open-ended questions. open-ended questions such as \"tell me about a time when... .\" or \"how might this information be useful to you?\" cause learners to think about how new information may relate to their own experience. student responses to such questions are opportunities for experiencing the perspectives of others. for these questions to be effective it is critical that instructors focus on teaching content that is useful for participants. the importance of using these types of strategies with adults contributes to what bain(2004 p. 4) noted as critical learning environments where instructors \"embed\" the skills they are teaching in \"authentic tasks that will arouse curiosity, challenge students to rethink assumptions and examine their mental modes of reality\". mezirow j. (1997) who asserts that learners need to practice in recognizing frames of reference and using their imaginations to redefine problems from different perspectives. (pg. 10) i made the connection by also adding the point that \"to promote discovery learning, the educator often reframes learner questions in terms of the learner's current level of understanding. learning contracts, group projects, role play, case studies, and simulations are classroom methods associated with transformative education.\" such approaches emphasize that learning is not an \"all or nothing\" process but that students learn the new information that is presented to them by building upon knowledge that they already possess. it is therefore important that teachers constantly assess the knowledge their students have gained to make sure that the students' perceptions of the new knowledge are what the teacher had intended. teachers will find that since the students build upon already existing knowledge, when they are called upon to retrieve the new information, they may make errors. it is known as reconstruction error when we fill in the gaps of our understanding with logical, though incorrect, thoughts. teachers need to catch and try to correct these errors, though it is inevitable that some reconstruction error will continue to occur because of our innate retrieval limitations.in most pedagogies based on constructivism, the teacher's role is not only to observe and assess but to also engage with the students while they are completing activities, wondering aloud and posing questions to the students for promotion of reasoning (devries et al., 2002). (ex: i wonder why the water does not spill over the edge of the full cup?) teachers also intervene when there are conflicts that arise; however, they simply facilitate the students' resolutions and self-regulation, with an emphasis on the conflict being the students' and that they must figure things out for themselves. for example, promotion of literacy is accomplished by integrating the need to read and write throughout individual activities within print-rich classrooms. the teacher, after reading a story, encourages the students to write or draw stories of their own, or by having the students reenact a story that they may know well, both activities encourage the students to conceive themselves as reader and writers. specific approaches specific approaches to education that are based on constructivism include the following: constructionism an approach to learning based on the constructivist learning ideologies presented by jean piaget (harel & papert, 1991). in this approach, the individual is consciously engaged in the construction of a product (li, cheng, & liu, 2013). the utilization of constructionism in educational settings has been shown to promote higher-order thinking skills such as problem-solving and critical thinking (li et al., 2013). guided instruction a learning approach in which the educator uses strategically placed prompts, cues, questions, direct explanations, and modeling to guide student thinking and facilitate an increased responsibility for the completion of a task (fisher & frey, 2010). problem-based learning a structured educational approach which consists of large and small group discussions (schmidt & loyens, 2007). problem-based learning begins with an educator presenting a series of carefully constructed problems or issues to small groups of students (schmidt & loyens, 2007). the problems or issues typically pertain to phenomena or events to which students possess limited prior knowledge (schmidt & loyens, 2007). the first component of problem-based learning is to discuss prior knowledge and ask questions related to the specific problems or issues (schmidt & loyens, 2007). following the class discussion, there is typically time in which students individually research or reflect on the newly acquired information and/or seek out areas requiring further exploration (schmidt & loyens, 2007). after a pre-determined amount of time (as outlined by the educator), students will meet in the same small groups that were composed prior to the class discussion (schmidt & loyens, 2007). in the first meeting, groups will spend between one and three hours further discussing the problems or issues from class in addition to presenting any new information collected during individual research (schmidt & loyens, 2007). following the first meeting, students will independently reflect on the group discussion, specifically in comparing thoughts regarding the problems or issues in question (schmidt & loyens, 2007). typically, groups will meet a second time to critically analyse individual and group thoughts and discussions and will attempt to synthesize the information in order to draw conclusions about the given problem or issue (schmidt & loyens, 2007). within the educational setting, problem-based learning has enabled students to actively construct individual understandings of a topic using both prior and newly acquired knowledge (schmidt & loyens, 2007). moreover, students also develop self-directed and group learning skills which ultimately facilitates the comprehension of the problems or issues (schmidt & loyens, 2007). inquiry-based learning an educational approach associated with problem-based learning in which the student learns through investigating issues or scenarios (hakverdi-can & sonmez, 2012). in this approach, students pose and answer questions individually and/or collaboratively in order to draw conclusions regarding the specific issues or scenarios (hakverdi-can & sonmez, 2012). within the educational setting, inquiry-based learning has been beneficial in developing student inquiry, investigation, and collaboration skills, in turn, increasing overall comprehension of the issue or scenario (hakverdi-can & sonmez, 2012).effective essential questions include student thought and research, connect to student's reality and can be solved in different ways (crane, 2009). there are no incorrect answers to essential questions, rather answers reveal student understanding(crane, 2009). anchored instruction an educational approach associated with problem-based learning in which the educator introduces an 'anchor' or theme in which students will be able to explore (kariuki & duran, 2004). the 'anchor' acts as a focal point for the entire task, allowing students to identify, define, and explore problems while exploring the topic from a variety of different perspectives (kariuki & duran, 2004). cooperative learning a variety of educational approaches focusing on individuals working together to achieve a specific learning outcome (hsiung, 2012). reciprocal peer teaching a cooperative learning approach wherein students alternate roles as teacher and learner (krych, march, bryan, peake, wojciech, & carmichael, 2005). the utilization of reciprocal peer teaching (rpt) in educational settings has been effective in the development of teamwork, leadership, and communication skills in addition to improving students' understanding of course content (krych et al., 2005). jigsaw a highly structured cooperative learning approach which is implemented in four stages: introduction, focused exploration, reporting and re-shaping, and integration and evaluation. in the introduction stage, the class is divided into heterogeneous 'home' groups consisting of between three and seven students (karacop & doymus, 2013). upon establishing the 'home' groups, the teacher will discuss the subtopics pertaining to the subject matter (karacop & doymus, 2013). in the focused exploration stage, each student within all 'home' groups selects one of the subtopics (karacop & doymus, 2013). students from each 'home' group that have selected the same subtopic will form a 'jigsaw' group (karacop & doymus, 2013). it is in the 'jigsaw' group that students will explore the material pertaining to the subtopic and will prepare for teaching it to their 'home' group, the reporting and re-shaping stage (karacop & doymus, 2013). the approach concludes in the fourth stage, integration and evaluation, wherein each of the 'home' groups combine the learning of each subtopic together to create the completed piece of work (karacop & doymus, 2013).\n",
      "Similarity score: 0.6639033884242156\n",
      "Passage text: lifelong learning lifelong learning is the \"ongoing, voluntary, and self-motivated\" pursuit of knowledge for either personal or professional reasons. therefore, it not only enhances social inclusion, active citizenship, and personal development, but also self-sustainability, as well as competitiveness and employability.in some contexts, the term \"lifelong learning\" evolved from the term \"life-long learners\", created by leslie watkins and used by professor clint taylor (csula) and superintendent for the temple city unified school district's mission statement in 1993, the term recognizes that learning is not confined to childhood or the classroom but takes place throughout life and in a range of situations.in other contexts, the term \"lifelong learning\" evolved organically. the first lifelong learning institute began at the new school for social research (now new school university) in 1962 as an experiment in \"learning in retirement\". later, after similar groups formed across the united states, many chose the name \"lifelong learning institute\" to be inclusive of nonretired persons in the same age range. see lifelong learning institutes, or outside the usa, university of the third age.during the last fifty years, constant scientific and technological innovation and change has had profound effects on how learning is understood. learning can no longer be divided into a place and time to acquire knowledge (school) and a place and time to apply the knowledge acquired (the workplace). instead, learning can be seen as something that takes place on an ongoing basis from our daily interactions with others and with the world around us. it can create and shapeshift into the form of formal learning or informal learning, or self-directed learning. allen tough (1979), canadian educator and researcher, asserts that almost 70% of learning projects are self-planned. links to theory two theories of particular relevance when considering lifelong learning are cognitivism and constructivism. cognitivism, most notably gestalt theory, speaks of learning as making sense of the relationship between what is old and what is new. similarly, constructivist theory states that \"knowledge is not passively received from the world or from authoritative sources but constructed by individuals or groups making sense of their experiential worlds\". constructivism lends itself well to lifelong learning as it brings together learning from many different sources including life experiences. learning economy lifelong learning is being recognized by traditional colleges and universities as valid in addition to degree attainment. some learning is accomplished in segments or interest categories and can still be valuable to the individual and community. the economic impact of educational institutions at all levels will remain significant as individuals continue formal studies and pursue interest-based subjects. institutions produce educated citizens who buy goods and services in the community and the education facilities and personnel generate economic activity during the operations and institutional activities. similar to health facilities, educational institutions are among the top employers in many cities and towns of the world. whether brick-and-mortar or distance education institutions, there is a great economic impact worldwide from learning, including lifelong learning, for all age groups. the lifelong learners, including persons with academic or professional credentials, tend to find higher-paying occupations, leaving monetary, cultural, and entrepreneurial impressions on communities, according to educator cassandra b. whyte. emerging technologies lifelong learning is defined as \"all learning activity undertaken throughout life, with the aim of improving knowledge, skills and competences within a personal, civic, social and/or employment-related perspective\". it is often considered learning that occurs after the formal education years of childhood (where learning is instructor-driven—pedagogical) and into adulthood (where the learning is individually-driven—andragogical). it is sought out naturally through life experiences as the learner seeks to gain knowledge for professional or personal reasons.'knowledge results from the combination of grasping experience and transforming it' (kolb 1984: 41). the concept of lifelong learning has become of vital importance with the emergence of new technologies that change how we receive and gather information, collaborate with others, and communicate. assistive technology as technology rapidly changes, individuals must adapt and learn to meet everyday demands. however, throughout life, an individual's functional capacities may also change. assistive technologies are also important considerations under the umbrella of emerging technology and lifelong learning.  access to informal and formal learning opportunities for individuals with disabilities may be dependent upon low and high tech assistive technology. web 2.0 the emergence of web 2.0 technologies has great potential to support lifelong learning endeavors, allowing for informal, just-in-time, day-to-day learning. constant change is emerging as the new normal. to thrive, organizations and individuals must be able to adjust, and enhance their knowledge and skills to meet evolving needs. this means the most important thing someone can learn is how to learn. an understanding of web 2.0 tools is critical to keeping up with a changing world and the information explosion. workplace learning professions typically recognize the importance of developing practitioners becoming lifelong learners. nowadays, formal training is only a beginning. knowledge accumulates at such a fast rate that one must continue to learn to be effective (williams, 2001). many licensed professions mandate that their members continue learning to maintain a license. (merriam, caffarella, & baumgartner, 2007). having said this, what are the characteristics or skills that a lifelong learner must develop. reflective learning and critical thinking can help a learner to become more self-reliant through learning how to learn, thus making them better able to direct, manage, and control their own learning process (candy, 1990). sipe (1995) studied experimentally \"open\" teachers and found that they valued self-directed learning, collaboration, reflection, and challenge; risk taking in their learning was seen as an opportunity, not a threat. dunlap and grabinger (2003) say that for higher education students to be lifelong learners, they must develop a capacity for self-direction, metacognition awareness, and a disposition toward learning (merriam, caffarella, & baumgartner, 2007). metacognition while the study of metacognition originally gave educational psychologists insights into what differentiated successful students from their less successful peers, it is increasingly being used to inform teaching that aims to make students more aware of their learning processes, and show them how to regulate those processes for more effective learning throughout their lives.educators can employ cognitive strategy instruction (csi) as a means to help learners develop their metacognition. again, learners who are better equipped to create learning strategies for themselves will have more success in achieving their cognitive goals.as lifelong learning is \"lifelong, lifewide, voluntary, and self-motivated\" learning to learn, that is, learning how to recognize learning strategies, and monitor and evaluate learning, is a pre-condition for lifelong learning. metacognition is an essential first step in developing lifelong learning. impact on long-term economic growth mainstream economic analysis has highlighted increased levels of primary and secondary education as a key driver of long-term economic growth. data show that initial levels of educational attainment explain about half the difference in growth rates between east asia and sub- saharan africa between 1965 and 2010. at the individual level, the knowledge and skills workers acquire through education and training make them more productive. provision of good quality education can improve the knowledge and skills of a whole population beyond what traditional or informal systems can achieve. for business, educated and highly skilled workers foster productivity gains and technological change, through either innovation or imitation of processes developed elsewhere. at the societal level, education expansion helps build social and institutional capital, which has a strong impact on the investment climate and growth; it also helps in building social trust, developing participatory societies, strengthening the rule of law and supporting good governance. implications for an aging society according to the alzheimer's society, it is estimated that more than a million canadians will suffer from alzheimer's diseases by 2030. \"exercising the brain may preserve it, forestalling mental decline\" (grady, 2012).in north america—and presumably globally—to proactively curb potential economic issues as the baby boomers continue to age, we need to look at society through a lifelong learning lens. consider community programs to engage retirees and foster their cognitive health. taking a proactive approach to keep our elderly population engaged through learning and their brains exercised as grady described, the strain on the health care system and not to mention the families of the elderly would be lessened. the us department of health and human service published a study that suggests that older people with a mild cognitive impairment receive 8.5 hours more of care each week from their family and those with a severe impairment received 41.5 more hours than those without a cognitive impairment (usdhhs, 2007). who pays for this?as a society we are living longer—85 years for men and 90 years for women—making cognitive health vitally important.\n",
      "Similarity score: 0.6640599208063568\n",
      "Passage text: new learning in the history of ideas the new learning in europe is the renaissance humanism, developed in the later fifteenth century. newly retrieved classical texts sparked philological study of a refined and classical latin style in prose and poetry.the term came to refer to other trends, one being the new formulation of the relationship between the church and the individual arising from the protestant revolution. contemporaries noticed this: thomas howard, 3rd duke of norfolk lamented \"it was merry in england afore the new learning came up\", in relation to reading the bible.an earlier 'new learning' had a similar cause, two centuries earlier. in that case it was new texts of aristotle that were discovered, with a major impact on scholasticism. a later phase of the new learning of the renaissance concerned the beginnings of modern scientific thought. here francis bacon is pointed to as an important reference point and catalyst.\n",
      "Similarity score: 0.648747376121946\n"
     ]
    }
   ],
   "source": [
    "import psycopg2\n",
    "import time\n",
    "\n",
    "# connect to the database\n",
    "conn = psycopg2.connect(\n",
    "    host=\"localhost\",\n",
    "    database=\"OJT_LAB_Q2\",\n",
    "    user=\"postgres\",\n",
    "    password=\"adidaphat\")\n",
    "k = 5\n",
    "\n",
    "# Call the find_nearest_passage function and print the result\n",
    "cursor = conn.cursor()\n",
    "question_embeddings = question_embeddings.reshape(-1)\n",
    "start = time.time()\n",
    "cursor.execute(\"\"\"SELECT * FROM find_similar_passages(CAST(%s AS vector(768)), %s)\"\"\", (question_embeddings.tolist(), k))\n",
    "results = cursor.fetchall()\n",
    "end = time.time()\n",
    "print(\"Time taken:\", end - start)\n",
    "for passage_text, similarity in results:\n",
    "    print(\"Passage text:\", passage_text)\n",
    "    print(\"Similarity score:\", similarity)\n",
    "\n",
    "# Close the cursor and connection\n",
    "cursor.close()\n",
    "conn.close()"
   ]
  },
  {
   "cell_type": "code",
   "execution_count": 1,
   "metadata": {},
   "outputs": [
    {
     "name": "stderr",
     "output_type": "stream",
     "text": [
      "The tokenizer class you load from this checkpoint is not the same type as the class this function is called from. It may result in unexpected tokenization. \n",
      "The tokenizer class you load from this checkpoint is 'DPRQuestionEncoderTokenizer'. \n",
      "The class this function is called from is 'DPRContextEncoderTokenizer'.\n",
      "Keyword arguments {'many': True} not recognized.\n",
      "Keyword arguments {'many': True} not recognized.\n",
      "Keyword arguments {'many': True} not recognized.\n",
      "Keyword arguments {'many': True} not recognized.\n"
     ]
    },
    {
     "name": "stdout",
     "output_type": "stream",
     "text": [
      "[{'passage': 'Paris is the capital and most populous city of France.', 'score': 103.66125}, {'passage': 'France is a country located in Western Europe.', 'score': 94.07152}]\n"
     ]
    }
   ],
   "source": [
    "from models.DPR import DPRModel\n",
    "\n",
    "model = DPRModel(\"facebook/dpr-ctx_encoder-multiset-base\")\n",
    "query = \"What is the capital of France?\"\n",
    "passages = [\n",
    "    \"Paris is the capital and most populous city of France.\",\n",
    "    \"France is a country located in Western Europe.\",\n",
    "    \"The Eiffel Tower is a famous landmark in Paris.\",\n",
    "    \"French is the official language of France.\",\n",
    "]\n",
    "results = model.search(query, passages, k=2)\n",
    "print(results)"
   ]
  },
  {
   "cell_type": "code",
   "execution_count": null,
   "metadata": {},
   "outputs": [],
   "source": []
  }
 ],
 "metadata": {
  "kernelspec": {
   "display_name": "Python 3",
   "language": "python",
   "name": "python3"
  },
  "language_info": {
   "codemirror_mode": {
    "name": "ipython",
    "version": 3
   },
   "file_extension": ".py",
   "mimetype": "text/x-python",
   "name": "python",
   "nbconvert_exporter": "python",
   "pygments_lexer": "ipython3",
   "version": "3.7.9"
  },
  "orig_nbformat": 4
 },
 "nbformat": 4,
 "nbformat_minor": 2
}
